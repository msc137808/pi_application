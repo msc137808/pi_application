{
 "cells": [
  {
   "cell_type": "markdown",
   "id": "e21f633d",
   "metadata": {},
   "source": [
    "#  <h1><center>Student's dropout and academic success analysis</center></h1>\n"
   ]
  },
  {
   "cell_type": "markdown",
   "id": "c13b2995",
   "metadata": {},
   "source": [
    "## 1. Importation des bibliothèques Python"
   ]
  },
  {
   "cell_type": "code",
   "execution_count": 1,
   "id": "72cb30e2",
   "metadata": {},
   "outputs": [],
   "source": [
    "import numpy as np\n",
    "import pandas as pd\n",
    "\n",
    "import matplotlib.pyplot as plt \n",
    "%matplotlib inline\n",
    "import seaborn as sns\n",
    "\n",
    "import warnings\n",
    "warnings.filterwarnings(\"ignore\")"
   ]
  },
  {
   "cell_type": "markdown",
   "id": "d7ad9886",
   "metadata": {},
   "source": [
    "## 2. Compréhension des données"
   ]
  },
  {
   "cell_type": "markdown",
   "id": "c2dd461d",
   "metadata": {},
   "source": [
    "### 2.1 Importation des données"
   ]
  },
  {
   "cell_type": "code",
   "execution_count": 2,
   "id": "75e8a514",
   "metadata": {},
   "outputs": [],
   "source": [
    "ds = pd.read_csv('dataset2 - dataset_datamining.csv')"
   ]
  },
  {
   "cell_type": "markdown",
   "id": "f9059975",
   "metadata": {},
   "source": [
    "### 2.2 Description des données"
   ]
  },
  {
   "cell_type": "markdown",
   "id": "6b1f0f2b",
   "metadata": {},
   "source": [
    "#### A/ Description des données source ####"
   ]
  },
  {
   "cell_type": "code",
   "execution_count": 3,
   "id": "4d07f475",
   "metadata": {
    "scrolled": true
   },
   "outputs": [
    {
     "name": "stdout",
     "output_type": "stream",
     "text": [
      "Nombre des lignes et colonnes:  (4424, 21)\n"
     ]
    }
   ],
   "source": [
    "print(\"Nombre des lignes et colonnes: \", ds.shape)"
   ]
  },
  {
   "cell_type": "code",
   "execution_count": 4,
   "id": "a2463b71",
   "metadata": {},
   "outputs": [
    {
     "name": "stdout",
     "output_type": "stream",
     "text": [
      "\n",
      "Nom des colonnes et type des données: \n",
      "Marital status                           int64\n",
      "Daytime/evening attendance               int64\n",
      "Nationality                              int64\n",
      "course_name                             object\n",
      "Previous qualification                   int64\n",
      "Mother's qualification                   int64\n",
      "Father's qualification                   int64\n",
      "Gender                                   int64\n",
      "Age at enrollment                        int64\n",
      "enrollement_year                         int64\n",
      "Number of semesters                      int64\n",
      "Curricular units 1st sem (enrolled)      int64\n",
      "Curricular units 1st sem (approved)      int64\n",
      "Curricular units 1st sem (grade)       float64\n",
      "Curricular units 2nd sem (enrolled)      int64\n",
      "Curricular units 2nd sem (approved)      int64\n",
      "Curricular units 2nd sem (grade)       float64\n",
      "Unemployment rate                      float64\n",
      "Inflation rate                         float64\n",
      "GDP                                    float64\n",
      "Target                                  object\n",
      "dtype: object\n"
     ]
    }
   ],
   "source": [
    "print(\"\\nNom des colonnes et type des données: \")\n",
    "print(ds.dtypes)"
   ]
  },
  {
   "cell_type": "code",
   "execution_count": 5,
   "id": "3abaaca6",
   "metadata": {
    "scrolled": false
   },
   "outputs": [
    {
     "name": "stdout",
     "output_type": "stream",
     "text": [
      "\n",
      " Les 5 premiéres lignes du dataset: \n"
     ]
    },
    {
     "data": {
      "text/html": [
       "<div>\n",
       "<style scoped>\n",
       "    .dataframe tbody tr th:only-of-type {\n",
       "        vertical-align: middle;\n",
       "    }\n",
       "\n",
       "    .dataframe tbody tr th {\n",
       "        vertical-align: top;\n",
       "    }\n",
       "\n",
       "    .dataframe thead th {\n",
       "        text-align: right;\n",
       "    }\n",
       "</style>\n",
       "<table border=\"1\" class=\"dataframe\">\n",
       "  <thead>\n",
       "    <tr style=\"text-align: right;\">\n",
       "      <th></th>\n",
       "      <th>Marital status</th>\n",
       "      <th>Daytime/evening attendance</th>\n",
       "      <th>Nationality</th>\n",
       "      <th>course_name</th>\n",
       "      <th>Previous qualification</th>\n",
       "      <th>Mother's qualification</th>\n",
       "      <th>Father's qualification</th>\n",
       "      <th>Gender</th>\n",
       "      <th>Age at enrollment</th>\n",
       "      <th>enrollement_year</th>\n",
       "      <th>...</th>\n",
       "      <th>Curricular units 1st sem (enrolled)</th>\n",
       "      <th>Curricular units 1st sem (approved)</th>\n",
       "      <th>Curricular units 1st sem (grade)</th>\n",
       "      <th>Curricular units 2nd sem (enrolled)</th>\n",
       "      <th>Curricular units 2nd sem (approved)</th>\n",
       "      <th>Curricular units 2nd sem (grade)</th>\n",
       "      <th>Unemployment rate</th>\n",
       "      <th>Inflation rate</th>\n",
       "      <th>GDP</th>\n",
       "      <th>Target</th>\n",
       "    </tr>\n",
       "  </thead>\n",
       "  <tbody>\n",
       "    <tr>\n",
       "      <th>0</th>\n",
       "      <td>1</td>\n",
       "      <td>1</td>\n",
       "      <td>15</td>\n",
       "      <td>Animation and Multimedia Design</td>\n",
       "      <td>1</td>\n",
       "      <td>13</td>\n",
       "      <td>10</td>\n",
       "      <td>1</td>\n",
       "      <td>20</td>\n",
       "      <td>2020</td>\n",
       "      <td>...</td>\n",
       "      <td>0</td>\n",
       "      <td>0</td>\n",
       "      <td>0.000000</td>\n",
       "      <td>0</td>\n",
       "      <td>0</td>\n",
       "      <td>0.000000</td>\n",
       "      <td>10.8</td>\n",
       "      <td>1.4</td>\n",
       "      <td>1.74</td>\n",
       "      <td>Dropout</td>\n",
       "    </tr>\n",
       "    <tr>\n",
       "      <th>1</th>\n",
       "      <td>1</td>\n",
       "      <td>1</td>\n",
       "      <td>1</td>\n",
       "      <td>Tourism</td>\n",
       "      <td>1</td>\n",
       "      <td>1</td>\n",
       "      <td>3</td>\n",
       "      <td>1</td>\n",
       "      <td>19</td>\n",
       "      <td>2019</td>\n",
       "      <td>...</td>\n",
       "      <td>6</td>\n",
       "      <td>6</td>\n",
       "      <td>14.000000</td>\n",
       "      <td>6</td>\n",
       "      <td>6</td>\n",
       "      <td>13.666667</td>\n",
       "      <td>13.9</td>\n",
       "      <td>-0.3</td>\n",
       "      <td>0.79</td>\n",
       "      <td>Graduate</td>\n",
       "    </tr>\n",
       "    <tr>\n",
       "      <th>2</th>\n",
       "      <td>1</td>\n",
       "      <td>1</td>\n",
       "      <td>20</td>\n",
       "      <td>Communication Design</td>\n",
       "      <td>1</td>\n",
       "      <td>22</td>\n",
       "      <td>27</td>\n",
       "      <td>1</td>\n",
       "      <td>19</td>\n",
       "      <td>2018</td>\n",
       "      <td>...</td>\n",
       "      <td>6</td>\n",
       "      <td>0</td>\n",
       "      <td>0.000000</td>\n",
       "      <td>6</td>\n",
       "      <td>0</td>\n",
       "      <td>0.000000</td>\n",
       "      <td>10.8</td>\n",
       "      <td>1.4</td>\n",
       "      <td>1.74</td>\n",
       "      <td>Dropout</td>\n",
       "    </tr>\n",
       "    <tr>\n",
       "      <th>3</th>\n",
       "      <td>1</td>\n",
       "      <td>1</td>\n",
       "      <td>1</td>\n",
       "      <td>Journalism and Communication</td>\n",
       "      <td>1</td>\n",
       "      <td>23</td>\n",
       "      <td>27</td>\n",
       "      <td>0</td>\n",
       "      <td>20</td>\n",
       "      <td>2018</td>\n",
       "      <td>...</td>\n",
       "      <td>6</td>\n",
       "      <td>6</td>\n",
       "      <td>13.428571</td>\n",
       "      <td>6</td>\n",
       "      <td>5</td>\n",
       "      <td>12.400000</td>\n",
       "      <td>9.4</td>\n",
       "      <td>-0.8</td>\n",
       "      <td>-3.12</td>\n",
       "      <td>Graduate</td>\n",
       "    </tr>\n",
       "    <tr>\n",
       "      <th>4</th>\n",
       "      <td>2</td>\n",
       "      <td>0</td>\n",
       "      <td>21</td>\n",
       "      <td>Social Service (evening attendance)</td>\n",
       "      <td>1</td>\n",
       "      <td>22</td>\n",
       "      <td>28</td>\n",
       "      <td>0</td>\n",
       "      <td>45</td>\n",
       "      <td>2021</td>\n",
       "      <td>...</td>\n",
       "      <td>6</td>\n",
       "      <td>5</td>\n",
       "      <td>12.333333</td>\n",
       "      <td>6</td>\n",
       "      <td>6</td>\n",
       "      <td>13.000000</td>\n",
       "      <td>13.9</td>\n",
       "      <td>-0.3</td>\n",
       "      <td>0.79</td>\n",
       "      <td>Graduate</td>\n",
       "    </tr>\n",
       "  </tbody>\n",
       "</table>\n",
       "<p>5 rows × 21 columns</p>\n",
       "</div>"
      ],
      "text/plain": [
       "   Marital status  Daytime/evening attendance  Nationality   \n",
       "0               1                           1           15  \\\n",
       "1               1                           1            1   \n",
       "2               1                           1           20   \n",
       "3               1                           1            1   \n",
       "4               2                           0           21   \n",
       "\n",
       "                           course_name  Previous qualification   \n",
       "0      Animation and Multimedia Design                       1  \\\n",
       "1                              Tourism                       1   \n",
       "2                 Communication Design                       1   \n",
       "3         Journalism and Communication                       1   \n",
       "4  Social Service (evening attendance)                       1   \n",
       "\n",
       "   Mother's qualification  Father's qualification  Gender  Age at enrollment   \n",
       "0                      13                      10       1                 20  \\\n",
       "1                       1                       3       1                 19   \n",
       "2                      22                      27       1                 19   \n",
       "3                      23                      27       0                 20   \n",
       "4                      22                      28       0                 45   \n",
       "\n",
       "   enrollement_year  ...  Curricular units 1st sem (enrolled)   \n",
       "0              2020  ...                                    0  \\\n",
       "1              2019  ...                                    6   \n",
       "2              2018  ...                                    6   \n",
       "3              2018  ...                                    6   \n",
       "4              2021  ...                                    6   \n",
       "\n",
       "   Curricular units 1st sem (approved)  Curricular units 1st sem (grade)   \n",
       "0                                    0                          0.000000  \\\n",
       "1                                    6                         14.000000   \n",
       "2                                    0                          0.000000   \n",
       "3                                    6                         13.428571   \n",
       "4                                    5                         12.333333   \n",
       "\n",
       "   Curricular units 2nd sem (enrolled)  Curricular units 2nd sem (approved)   \n",
       "0                                    0                                    0  \\\n",
       "1                                    6                                    6   \n",
       "2                                    6                                    0   \n",
       "3                                    6                                    5   \n",
       "4                                    6                                    6   \n",
       "\n",
       "   Curricular units 2nd sem (grade)  Unemployment rate  Inflation rate   GDP   \n",
       "0                          0.000000               10.8             1.4  1.74  \\\n",
       "1                         13.666667               13.9            -0.3  0.79   \n",
       "2                          0.000000               10.8             1.4  1.74   \n",
       "3                         12.400000                9.4            -0.8 -3.12   \n",
       "4                         13.000000               13.9            -0.3  0.79   \n",
       "\n",
       "     Target  \n",
       "0   Dropout  \n",
       "1  Graduate  \n",
       "2   Dropout  \n",
       "3  Graduate  \n",
       "4  Graduate  \n",
       "\n",
       "[5 rows x 21 columns]"
      ]
     },
     "execution_count": 5,
     "metadata": {},
     "output_type": "execute_result"
    }
   ],
   "source": [
    "print(\"\\n Les 5 premiéres lignes du dataset: \")\n",
    "ds.head()"
   ]
  },
  {
   "cell_type": "code",
   "execution_count": 6,
   "id": "b083554d",
   "metadata": {},
   "outputs": [
    {
     "name": "stdout",
     "output_type": "stream",
     "text": [
      "\n",
      " Les 5 dernières lignes du dataset: \n"
     ]
    },
    {
     "data": {
      "text/html": [
       "<div>\n",
       "<style scoped>\n",
       "    .dataframe tbody tr th:only-of-type {\n",
       "        vertical-align: middle;\n",
       "    }\n",
       "\n",
       "    .dataframe tbody tr th {\n",
       "        vertical-align: top;\n",
       "    }\n",
       "\n",
       "    .dataframe thead th {\n",
       "        text-align: right;\n",
       "    }\n",
       "</style>\n",
       "<table border=\"1\" class=\"dataframe\">\n",
       "  <thead>\n",
       "    <tr style=\"text-align: right;\">\n",
       "      <th></th>\n",
       "      <th>Marital status</th>\n",
       "      <th>Daytime/evening attendance</th>\n",
       "      <th>Nationality</th>\n",
       "      <th>course_name</th>\n",
       "      <th>Previous qualification</th>\n",
       "      <th>Mother's qualification</th>\n",
       "      <th>Father's qualification</th>\n",
       "      <th>Gender</th>\n",
       "      <th>Age at enrollment</th>\n",
       "      <th>enrollement_year</th>\n",
       "      <th>...</th>\n",
       "      <th>Curricular units 1st sem (enrolled)</th>\n",
       "      <th>Curricular units 1st sem (approved)</th>\n",
       "      <th>Curricular units 1st sem (grade)</th>\n",
       "      <th>Curricular units 2nd sem (enrolled)</th>\n",
       "      <th>Curricular units 2nd sem (approved)</th>\n",
       "      <th>Curricular units 2nd sem (grade)</th>\n",
       "      <th>Unemployment rate</th>\n",
       "      <th>Inflation rate</th>\n",
       "      <th>GDP</th>\n",
       "      <th>Target</th>\n",
       "    </tr>\n",
       "  </thead>\n",
       "  <tbody>\n",
       "    <tr>\n",
       "      <th>4419</th>\n",
       "      <td>1</td>\n",
       "      <td>1</td>\n",
       "      <td>1</td>\n",
       "      <td>Journalism and Communication</td>\n",
       "      <td>1</td>\n",
       "      <td>1</td>\n",
       "      <td>1</td>\n",
       "      <td>1</td>\n",
       "      <td>19</td>\n",
       "      <td>2019</td>\n",
       "      <td>...</td>\n",
       "      <td>6</td>\n",
       "      <td>5</td>\n",
       "      <td>13.600000</td>\n",
       "      <td>6</td>\n",
       "      <td>5</td>\n",
       "      <td>12.666667</td>\n",
       "      <td>15.5</td>\n",
       "      <td>2.8</td>\n",
       "      <td>-4.06</td>\n",
       "      <td>Graduate</td>\n",
       "    </tr>\n",
       "    <tr>\n",
       "      <th>4420</th>\n",
       "      <td>1</td>\n",
       "      <td>1</td>\n",
       "      <td>1</td>\n",
       "      <td>Journalism and Communication</td>\n",
       "      <td>1</td>\n",
       "      <td>1</td>\n",
       "      <td>1</td>\n",
       "      <td>0</td>\n",
       "      <td>18</td>\n",
       "      <td>2021</td>\n",
       "      <td>...</td>\n",
       "      <td>6</td>\n",
       "      <td>6</td>\n",
       "      <td>12.000000</td>\n",
       "      <td>6</td>\n",
       "      <td>2</td>\n",
       "      <td>11.000000</td>\n",
       "      <td>11.1</td>\n",
       "      <td>0.6</td>\n",
       "      <td>2.02</td>\n",
       "      <td>Dropout</td>\n",
       "    </tr>\n",
       "    <tr>\n",
       "      <th>4421</th>\n",
       "      <td>1</td>\n",
       "      <td>1</td>\n",
       "      <td>2</td>\n",
       "      <td>Nursing</td>\n",
       "      <td>1</td>\n",
       "      <td>22</td>\n",
       "      <td>27</td>\n",
       "      <td>0</td>\n",
       "      <td>30</td>\n",
       "      <td>2021</td>\n",
       "      <td>...</td>\n",
       "      <td>7</td>\n",
       "      <td>7</td>\n",
       "      <td>14.912500</td>\n",
       "      <td>8</td>\n",
       "      <td>1</td>\n",
       "      <td>13.500000</td>\n",
       "      <td>13.9</td>\n",
       "      <td>-0.3</td>\n",
       "      <td>0.79</td>\n",
       "      <td>Dropout</td>\n",
       "    </tr>\n",
       "    <tr>\n",
       "      <th>4422</th>\n",
       "      <td>1</td>\n",
       "      <td>1</td>\n",
       "      <td>17</td>\n",
       "      <td>Management</td>\n",
       "      <td>1</td>\n",
       "      <td>22</td>\n",
       "      <td>27</td>\n",
       "      <td>0</td>\n",
       "      <td>20</td>\n",
       "      <td>2018</td>\n",
       "      <td>...</td>\n",
       "      <td>5</td>\n",
       "      <td>5</td>\n",
       "      <td>13.800000</td>\n",
       "      <td>5</td>\n",
       "      <td>5</td>\n",
       "      <td>12.000000</td>\n",
       "      <td>9.4</td>\n",
       "      <td>-0.8</td>\n",
       "      <td>-3.12</td>\n",
       "      <td>Graduate</td>\n",
       "    </tr>\n",
       "    <tr>\n",
       "      <th>4423</th>\n",
       "      <td>1</td>\n",
       "      <td>1</td>\n",
       "      <td>9</td>\n",
       "      <td>Journalism and Communication</td>\n",
       "      <td>1</td>\n",
       "      <td>23</td>\n",
       "      <td>27</td>\n",
       "      <td>0</td>\n",
       "      <td>22</td>\n",
       "      <td>2020</td>\n",
       "      <td>...</td>\n",
       "      <td>6</td>\n",
       "      <td>6</td>\n",
       "      <td>11.666667</td>\n",
       "      <td>6</td>\n",
       "      <td>6</td>\n",
       "      <td>13.000000</td>\n",
       "      <td>12.7</td>\n",
       "      <td>3.7</td>\n",
       "      <td>-1.70</td>\n",
       "      <td>Graduate</td>\n",
       "    </tr>\n",
       "  </tbody>\n",
       "</table>\n",
       "<p>5 rows × 21 columns</p>\n",
       "</div>"
      ],
      "text/plain": [
       "      Marital status  Daytime/evening attendance  Nationality   \n",
       "4419               1                           1            1  \\\n",
       "4420               1                           1            1   \n",
       "4421               1                           1            2   \n",
       "4422               1                           1           17   \n",
       "4423               1                           1            9   \n",
       "\n",
       "                       course_name  Previous qualification   \n",
       "4419  Journalism and Communication                       1  \\\n",
       "4420  Journalism and Communication                       1   \n",
       "4421                       Nursing                       1   \n",
       "4422                    Management                       1   \n",
       "4423  Journalism and Communication                       1   \n",
       "\n",
       "      Mother's qualification  Father's qualification  Gender   \n",
       "4419                       1                       1       1  \\\n",
       "4420                       1                       1       0   \n",
       "4421                      22                      27       0   \n",
       "4422                      22                      27       0   \n",
       "4423                      23                      27       0   \n",
       "\n",
       "      Age at enrollment  enrollement_year  ...   \n",
       "4419                 19              2019  ...  \\\n",
       "4420                 18              2021  ...   \n",
       "4421                 30              2021  ...   \n",
       "4422                 20              2018  ...   \n",
       "4423                 22              2020  ...   \n",
       "\n",
       "      Curricular units 1st sem (enrolled)   \n",
       "4419                                    6  \\\n",
       "4420                                    6   \n",
       "4421                                    7   \n",
       "4422                                    5   \n",
       "4423                                    6   \n",
       "\n",
       "      Curricular units 1st sem (approved)  Curricular units 1st sem (grade)   \n",
       "4419                                    5                         13.600000  \\\n",
       "4420                                    6                         12.000000   \n",
       "4421                                    7                         14.912500   \n",
       "4422                                    5                         13.800000   \n",
       "4423                                    6                         11.666667   \n",
       "\n",
       "      Curricular units 2nd sem (enrolled)   \n",
       "4419                                    6  \\\n",
       "4420                                    6   \n",
       "4421                                    8   \n",
       "4422                                    5   \n",
       "4423                                    6   \n",
       "\n",
       "      Curricular units 2nd sem (approved)  Curricular units 2nd sem (grade)   \n",
       "4419                                    5                         12.666667  \\\n",
       "4420                                    2                         11.000000   \n",
       "4421                                    1                         13.500000   \n",
       "4422                                    5                         12.000000   \n",
       "4423                                    6                         13.000000   \n",
       "\n",
       "      Unemployment rate  Inflation rate   GDP    Target  \n",
       "4419               15.5             2.8 -4.06  Graduate  \n",
       "4420               11.1             0.6  2.02   Dropout  \n",
       "4421               13.9            -0.3  0.79   Dropout  \n",
       "4422                9.4            -0.8 -3.12  Graduate  \n",
       "4423               12.7             3.7 -1.70  Graduate  \n",
       "\n",
       "[5 rows x 21 columns]"
      ]
     },
     "execution_count": 6,
     "metadata": {},
     "output_type": "execute_result"
    }
   ],
   "source": [
    "print(\"\\n Les 5 dernières lignes du dataset: \")\n",
    "ds.tail()"
   ]
  },
  {
   "cell_type": "code",
   "execution_count": 7,
   "id": "edce82b3",
   "metadata": {
    "scrolled": true
   },
   "outputs": [
    {
     "name": "stdout",
     "output_type": "stream",
     "text": [
      "\n",
      " La somme des valeurs nulles pour chaque colonne: \n"
     ]
    },
    {
     "data": {
      "text/plain": [
       "Marital status                         0\n",
       "Daytime/evening attendance             0\n",
       "Nationality                            0\n",
       "course_name                            0\n",
       "Previous qualification                 0\n",
       "Mother's qualification                 0\n",
       "Father's qualification                 0\n",
       "Gender                                 0\n",
       "Age at enrollment                      0\n",
       "enrollement_year                       0\n",
       "Number of semesters                    0\n",
       "Curricular units 1st sem (enrolled)    0\n",
       "Curricular units 1st sem (approved)    0\n",
       "Curricular units 1st sem (grade)       0\n",
       "Curricular units 2nd sem (enrolled)    0\n",
       "Curricular units 2nd sem (approved)    0\n",
       "Curricular units 2nd sem (grade)       0\n",
       "Unemployment rate                      0\n",
       "Inflation rate                         0\n",
       "GDP                                    0\n",
       "Target                                 0\n",
       "dtype: int64"
      ]
     },
     "execution_count": 7,
     "metadata": {},
     "output_type": "execute_result"
    }
   ],
   "source": [
    "print(\"\\n La somme des valeurs nulles pour chaque colonne: \")\n",
    "ds.isnull().sum()"
   ]
  },
  {
   "cell_type": "markdown",
   "id": "2bce267c",
   "metadata": {},
   "source": [
    "#### B/ Description statistique"
   ]
  },
  {
   "cell_type": "code",
   "execution_count": 8,
   "id": "6e71422d",
   "metadata": {
    "scrolled": true
   },
   "outputs": [
    {
     "data": {
      "text/html": [
       "<div>\n",
       "<style scoped>\n",
       "    .dataframe tbody tr th:only-of-type {\n",
       "        vertical-align: middle;\n",
       "    }\n",
       "\n",
       "    .dataframe tbody tr th {\n",
       "        vertical-align: top;\n",
       "    }\n",
       "\n",
       "    .dataframe thead th {\n",
       "        text-align: right;\n",
       "    }\n",
       "</style>\n",
       "<table border=\"1\" class=\"dataframe\">\n",
       "  <thead>\n",
       "    <tr style=\"text-align: right;\">\n",
       "      <th></th>\n",
       "      <th>Marital status</th>\n",
       "      <th>Daytime/evening attendance</th>\n",
       "      <th>Nationality</th>\n",
       "      <th>course_name</th>\n",
       "      <th>Previous qualification</th>\n",
       "      <th>Mother's qualification</th>\n",
       "      <th>Father's qualification</th>\n",
       "      <th>Gender</th>\n",
       "      <th>Age at enrollment</th>\n",
       "      <th>enrollement_year</th>\n",
       "      <th>...</th>\n",
       "      <th>Curricular units 1st sem (enrolled)</th>\n",
       "      <th>Curricular units 1st sem (approved)</th>\n",
       "      <th>Curricular units 1st sem (grade)</th>\n",
       "      <th>Curricular units 2nd sem (enrolled)</th>\n",
       "      <th>Curricular units 2nd sem (approved)</th>\n",
       "      <th>Curricular units 2nd sem (grade)</th>\n",
       "      <th>Unemployment rate</th>\n",
       "      <th>Inflation rate</th>\n",
       "      <th>GDP</th>\n",
       "      <th>Target</th>\n",
       "    </tr>\n",
       "  </thead>\n",
       "  <tbody>\n",
       "    <tr>\n",
       "      <th>count</th>\n",
       "      <td>4424.000000</td>\n",
       "      <td>4424.000000</td>\n",
       "      <td>4424.000000</td>\n",
       "      <td>4424</td>\n",
       "      <td>4424.000000</td>\n",
       "      <td>4424.000000</td>\n",
       "      <td>4424.000000</td>\n",
       "      <td>4424.000000</td>\n",
       "      <td>4424.000000</td>\n",
       "      <td>4424.000000</td>\n",
       "      <td>...</td>\n",
       "      <td>4424.000000</td>\n",
       "      <td>4424.000000</td>\n",
       "      <td>4424.000000</td>\n",
       "      <td>4424.000000</td>\n",
       "      <td>4424.000000</td>\n",
       "      <td>4424.000000</td>\n",
       "      <td>4424.000000</td>\n",
       "      <td>4424.000000</td>\n",
       "      <td>4424.000000</td>\n",
       "      <td>4424</td>\n",
       "    </tr>\n",
       "    <tr>\n",
       "      <th>unique</th>\n",
       "      <td>NaN</td>\n",
       "      <td>NaN</td>\n",
       "      <td>NaN</td>\n",
       "      <td>17</td>\n",
       "      <td>NaN</td>\n",
       "      <td>NaN</td>\n",
       "      <td>NaN</td>\n",
       "      <td>NaN</td>\n",
       "      <td>NaN</td>\n",
       "      <td>NaN</td>\n",
       "      <td>...</td>\n",
       "      <td>NaN</td>\n",
       "      <td>NaN</td>\n",
       "      <td>NaN</td>\n",
       "      <td>NaN</td>\n",
       "      <td>NaN</td>\n",
       "      <td>NaN</td>\n",
       "      <td>NaN</td>\n",
       "      <td>NaN</td>\n",
       "      <td>NaN</td>\n",
       "      <td>3</td>\n",
       "    </tr>\n",
       "    <tr>\n",
       "      <th>top</th>\n",
       "      <td>NaN</td>\n",
       "      <td>NaN</td>\n",
       "      <td>NaN</td>\n",
       "      <td>Nursing</td>\n",
       "      <td>NaN</td>\n",
       "      <td>NaN</td>\n",
       "      <td>NaN</td>\n",
       "      <td>NaN</td>\n",
       "      <td>NaN</td>\n",
       "      <td>NaN</td>\n",
       "      <td>...</td>\n",
       "      <td>NaN</td>\n",
       "      <td>NaN</td>\n",
       "      <td>NaN</td>\n",
       "      <td>NaN</td>\n",
       "      <td>NaN</td>\n",
       "      <td>NaN</td>\n",
       "      <td>NaN</td>\n",
       "      <td>NaN</td>\n",
       "      <td>NaN</td>\n",
       "      <td>Graduate</td>\n",
       "    </tr>\n",
       "    <tr>\n",
       "      <th>freq</th>\n",
       "      <td>NaN</td>\n",
       "      <td>NaN</td>\n",
       "      <td>NaN</td>\n",
       "      <td>766</td>\n",
       "      <td>NaN</td>\n",
       "      <td>NaN</td>\n",
       "      <td>NaN</td>\n",
       "      <td>NaN</td>\n",
       "      <td>NaN</td>\n",
       "      <td>NaN</td>\n",
       "      <td>...</td>\n",
       "      <td>NaN</td>\n",
       "      <td>NaN</td>\n",
       "      <td>NaN</td>\n",
       "      <td>NaN</td>\n",
       "      <td>NaN</td>\n",
       "      <td>NaN</td>\n",
       "      <td>NaN</td>\n",
       "      <td>NaN</td>\n",
       "      <td>NaN</td>\n",
       "      <td>2209</td>\n",
       "    </tr>\n",
       "    <tr>\n",
       "      <th>mean</th>\n",
       "      <td>1.178571</td>\n",
       "      <td>0.890823</td>\n",
       "      <td>6.175859</td>\n",
       "      <td>NaN</td>\n",
       "      <td>2.531420</td>\n",
       "      <td>12.322107</td>\n",
       "      <td>16.455244</td>\n",
       "      <td>0.351718</td>\n",
       "      <td>23.265145</td>\n",
       "      <td>2019.959539</td>\n",
       "      <td>...</td>\n",
       "      <td>6.270570</td>\n",
       "      <td>4.706600</td>\n",
       "      <td>10.640822</td>\n",
       "      <td>6.232143</td>\n",
       "      <td>4.435805</td>\n",
       "      <td>10.230206</td>\n",
       "      <td>11.566139</td>\n",
       "      <td>1.228029</td>\n",
       "      <td>0.001969</td>\n",
       "      <td>NaN</td>\n",
       "    </tr>\n",
       "    <tr>\n",
       "      <th>std</th>\n",
       "      <td>0.605747</td>\n",
       "      <td>0.311897</td>\n",
       "      <td>6.651004</td>\n",
       "      <td>NaN</td>\n",
       "      <td>3.963707</td>\n",
       "      <td>9.026251</td>\n",
       "      <td>11.044800</td>\n",
       "      <td>0.477560</td>\n",
       "      <td>7.587816</td>\n",
       "      <td>1.426768</td>\n",
       "      <td>...</td>\n",
       "      <td>2.480178</td>\n",
       "      <td>3.094238</td>\n",
       "      <td>4.843663</td>\n",
       "      <td>2.195951</td>\n",
       "      <td>3.014764</td>\n",
       "      <td>5.210808</td>\n",
       "      <td>2.663850</td>\n",
       "      <td>1.382711</td>\n",
       "      <td>2.269935</td>\n",
       "      <td>NaN</td>\n",
       "    </tr>\n",
       "    <tr>\n",
       "      <th>min</th>\n",
       "      <td>1.000000</td>\n",
       "      <td>0.000000</td>\n",
       "      <td>1.000000</td>\n",
       "      <td>NaN</td>\n",
       "      <td>1.000000</td>\n",
       "      <td>1.000000</td>\n",
       "      <td>1.000000</td>\n",
       "      <td>0.000000</td>\n",
       "      <td>17.000000</td>\n",
       "      <td>2018.000000</td>\n",
       "      <td>...</td>\n",
       "      <td>0.000000</td>\n",
       "      <td>0.000000</td>\n",
       "      <td>0.000000</td>\n",
       "      <td>0.000000</td>\n",
       "      <td>0.000000</td>\n",
       "      <td>0.000000</td>\n",
       "      <td>7.600000</td>\n",
       "      <td>-0.800000</td>\n",
       "      <td>-4.060000</td>\n",
       "      <td>NaN</td>\n",
       "    </tr>\n",
       "    <tr>\n",
       "      <th>25%</th>\n",
       "      <td>1.000000</td>\n",
       "      <td>1.000000</td>\n",
       "      <td>1.000000</td>\n",
       "      <td>NaN</td>\n",
       "      <td>1.000000</td>\n",
       "      <td>2.000000</td>\n",
       "      <td>3.000000</td>\n",
       "      <td>0.000000</td>\n",
       "      <td>19.000000</td>\n",
       "      <td>2019.000000</td>\n",
       "      <td>...</td>\n",
       "      <td>5.000000</td>\n",
       "      <td>3.000000</td>\n",
       "      <td>11.000000</td>\n",
       "      <td>5.000000</td>\n",
       "      <td>2.000000</td>\n",
       "      <td>10.750000</td>\n",
       "      <td>9.400000</td>\n",
       "      <td>0.300000</td>\n",
       "      <td>-1.700000</td>\n",
       "      <td>NaN</td>\n",
       "    </tr>\n",
       "    <tr>\n",
       "      <th>50%</th>\n",
       "      <td>1.000000</td>\n",
       "      <td>1.000000</td>\n",
       "      <td>1.000000</td>\n",
       "      <td>NaN</td>\n",
       "      <td>1.000000</td>\n",
       "      <td>13.000000</td>\n",
       "      <td>14.000000</td>\n",
       "      <td>0.000000</td>\n",
       "      <td>20.000000</td>\n",
       "      <td>2020.000000</td>\n",
       "      <td>...</td>\n",
       "      <td>6.000000</td>\n",
       "      <td>5.000000</td>\n",
       "      <td>12.285714</td>\n",
       "      <td>6.000000</td>\n",
       "      <td>5.000000</td>\n",
       "      <td>12.200000</td>\n",
       "      <td>11.100000</td>\n",
       "      <td>1.400000</td>\n",
       "      <td>0.320000</td>\n",
       "      <td>NaN</td>\n",
       "    </tr>\n",
       "    <tr>\n",
       "      <th>75%</th>\n",
       "      <td>1.000000</td>\n",
       "      <td>1.000000</td>\n",
       "      <td>11.000000</td>\n",
       "      <td>NaN</td>\n",
       "      <td>1.000000</td>\n",
       "      <td>22.000000</td>\n",
       "      <td>27.000000</td>\n",
       "      <td>1.000000</td>\n",
       "      <td>25.000000</td>\n",
       "      <td>2021.000000</td>\n",
       "      <td>...</td>\n",
       "      <td>7.000000</td>\n",
       "      <td>6.000000</td>\n",
       "      <td>13.400000</td>\n",
       "      <td>7.000000</td>\n",
       "      <td>6.000000</td>\n",
       "      <td>13.333333</td>\n",
       "      <td>13.900000</td>\n",
       "      <td>2.600000</td>\n",
       "      <td>1.790000</td>\n",
       "      <td>NaN</td>\n",
       "    </tr>\n",
       "    <tr>\n",
       "      <th>max</th>\n",
       "      <td>6.000000</td>\n",
       "      <td>1.000000</td>\n",
       "      <td>21.000000</td>\n",
       "      <td>NaN</td>\n",
       "      <td>17.000000</td>\n",
       "      <td>29.000000</td>\n",
       "      <td>34.000000</td>\n",
       "      <td>1.000000</td>\n",
       "      <td>70.000000</td>\n",
       "      <td>2022.000000</td>\n",
       "      <td>...</td>\n",
       "      <td>26.000000</td>\n",
       "      <td>26.000000</td>\n",
       "      <td>18.875000</td>\n",
       "      <td>23.000000</td>\n",
       "      <td>20.000000</td>\n",
       "      <td>18.571429</td>\n",
       "      <td>16.200000</td>\n",
       "      <td>3.700000</td>\n",
       "      <td>3.510000</td>\n",
       "      <td>NaN</td>\n",
       "    </tr>\n",
       "  </tbody>\n",
       "</table>\n",
       "<p>11 rows × 21 columns</p>\n",
       "</div>"
      ],
      "text/plain": [
       "        Marital status  Daytime/evening attendance  Nationality course_name   \n",
       "count      4424.000000                 4424.000000  4424.000000        4424  \\\n",
       "unique             NaN                         NaN          NaN          17   \n",
       "top                NaN                         NaN          NaN     Nursing   \n",
       "freq               NaN                         NaN          NaN         766   \n",
       "mean          1.178571                    0.890823     6.175859         NaN   \n",
       "std           0.605747                    0.311897     6.651004         NaN   \n",
       "min           1.000000                    0.000000     1.000000         NaN   \n",
       "25%           1.000000                    1.000000     1.000000         NaN   \n",
       "50%           1.000000                    1.000000     1.000000         NaN   \n",
       "75%           1.000000                    1.000000    11.000000         NaN   \n",
       "max           6.000000                    1.000000    21.000000         NaN   \n",
       "\n",
       "        Previous qualification  Mother's qualification   \n",
       "count              4424.000000             4424.000000  \\\n",
       "unique                     NaN                     NaN   \n",
       "top                        NaN                     NaN   \n",
       "freq                       NaN                     NaN   \n",
       "mean                  2.531420               12.322107   \n",
       "std                   3.963707                9.026251   \n",
       "min                   1.000000                1.000000   \n",
       "25%                   1.000000                2.000000   \n",
       "50%                   1.000000               13.000000   \n",
       "75%                   1.000000               22.000000   \n",
       "max                  17.000000               29.000000   \n",
       "\n",
       "        Father's qualification       Gender  Age at enrollment   \n",
       "count              4424.000000  4424.000000        4424.000000  \\\n",
       "unique                     NaN          NaN                NaN   \n",
       "top                        NaN          NaN                NaN   \n",
       "freq                       NaN          NaN                NaN   \n",
       "mean                 16.455244     0.351718          23.265145   \n",
       "std                  11.044800     0.477560           7.587816   \n",
       "min                   1.000000     0.000000          17.000000   \n",
       "25%                   3.000000     0.000000          19.000000   \n",
       "50%                  14.000000     0.000000          20.000000   \n",
       "75%                  27.000000     1.000000          25.000000   \n",
       "max                  34.000000     1.000000          70.000000   \n",
       "\n",
       "        enrollement_year  ...  Curricular units 1st sem (enrolled)   \n",
       "count        4424.000000  ...                          4424.000000  \\\n",
       "unique               NaN  ...                                  NaN   \n",
       "top                  NaN  ...                                  NaN   \n",
       "freq                 NaN  ...                                  NaN   \n",
       "mean         2019.959539  ...                             6.270570   \n",
       "std             1.426768  ...                             2.480178   \n",
       "min          2018.000000  ...                             0.000000   \n",
       "25%          2019.000000  ...                             5.000000   \n",
       "50%          2020.000000  ...                             6.000000   \n",
       "75%          2021.000000  ...                             7.000000   \n",
       "max          2022.000000  ...                            26.000000   \n",
       "\n",
       "        Curricular units 1st sem (approved)  Curricular units 1st sem (grade)   \n",
       "count                           4424.000000                       4424.000000  \\\n",
       "unique                                  NaN                               NaN   \n",
       "top                                     NaN                               NaN   \n",
       "freq                                    NaN                               NaN   \n",
       "mean                               4.706600                         10.640822   \n",
       "std                                3.094238                          4.843663   \n",
       "min                                0.000000                          0.000000   \n",
       "25%                                3.000000                         11.000000   \n",
       "50%                                5.000000                         12.285714   \n",
       "75%                                6.000000                         13.400000   \n",
       "max                               26.000000                         18.875000   \n",
       "\n",
       "        Curricular units 2nd sem (enrolled)   \n",
       "count                           4424.000000  \\\n",
       "unique                                  NaN   \n",
       "top                                     NaN   \n",
       "freq                                    NaN   \n",
       "mean                               6.232143   \n",
       "std                                2.195951   \n",
       "min                                0.000000   \n",
       "25%                                5.000000   \n",
       "50%                                6.000000   \n",
       "75%                                7.000000   \n",
       "max                               23.000000   \n",
       "\n",
       "        Curricular units 2nd sem (approved)  Curricular units 2nd sem (grade)   \n",
       "count                           4424.000000                       4424.000000  \\\n",
       "unique                                  NaN                               NaN   \n",
       "top                                     NaN                               NaN   \n",
       "freq                                    NaN                               NaN   \n",
       "mean                               4.435805                         10.230206   \n",
       "std                                3.014764                          5.210808   \n",
       "min                                0.000000                          0.000000   \n",
       "25%                                2.000000                         10.750000   \n",
       "50%                                5.000000                         12.200000   \n",
       "75%                                6.000000                         13.333333   \n",
       "max                               20.000000                         18.571429   \n",
       "\n",
       "        Unemployment rate  Inflation rate          GDP    Target  \n",
       "count         4424.000000     4424.000000  4424.000000      4424  \n",
       "unique                NaN             NaN          NaN         3  \n",
       "top                   NaN             NaN          NaN  Graduate  \n",
       "freq                  NaN             NaN          NaN      2209  \n",
       "mean            11.566139        1.228029     0.001969       NaN  \n",
       "std              2.663850        1.382711     2.269935       NaN  \n",
       "min              7.600000       -0.800000    -4.060000       NaN  \n",
       "25%              9.400000        0.300000    -1.700000       NaN  \n",
       "50%             11.100000        1.400000     0.320000       NaN  \n",
       "75%             13.900000        2.600000     1.790000       NaN  \n",
       "max             16.200000        3.700000     3.510000       NaN  \n",
       "\n",
       "[11 rows x 21 columns]"
      ]
     },
     "execution_count": 8,
     "metadata": {},
     "output_type": "execute_result"
    }
   ],
   "source": [
    "ds.describe(include='all')"
   ]
  },
  {
   "cell_type": "code",
   "execution_count": 9,
   "id": "b2d6ce1f",
   "metadata": {},
   "outputs": [
    {
     "data": {
      "text/html": [
       "<div>\n",
       "<style scoped>\n",
       "    .dataframe tbody tr th:only-of-type {\n",
       "        vertical-align: middle;\n",
       "    }\n",
       "\n",
       "    .dataframe tbody tr th {\n",
       "        vertical-align: top;\n",
       "    }\n",
       "\n",
       "    .dataframe thead th {\n",
       "        text-align: right;\n",
       "    }\n",
       "</style>\n",
       "<table border=\"1\" class=\"dataframe\">\n",
       "  <thead>\n",
       "    <tr style=\"text-align: right;\">\n",
       "      <th></th>\n",
       "      <th>course_name</th>\n",
       "      <th>Target</th>\n",
       "    </tr>\n",
       "  </thead>\n",
       "  <tbody>\n",
       "    <tr>\n",
       "      <th>count</th>\n",
       "      <td>4424</td>\n",
       "      <td>4424</td>\n",
       "    </tr>\n",
       "    <tr>\n",
       "      <th>unique</th>\n",
       "      <td>17</td>\n",
       "      <td>3</td>\n",
       "    </tr>\n",
       "    <tr>\n",
       "      <th>top</th>\n",
       "      <td>Nursing</td>\n",
       "      <td>Graduate</td>\n",
       "    </tr>\n",
       "    <tr>\n",
       "      <th>freq</th>\n",
       "      <td>766</td>\n",
       "      <td>2209</td>\n",
       "    </tr>\n",
       "  </tbody>\n",
       "</table>\n",
       "</div>"
      ],
      "text/plain": [
       "       course_name    Target\n",
       "count         4424      4424\n",
       "unique          17         3\n",
       "top        Nursing  Graduate\n",
       "freq           766      2209"
      ]
     },
     "execution_count": 9,
     "metadata": {},
     "output_type": "execute_result"
    }
   ],
   "source": [
    "ds.describe(include=['object'])"
   ]
  },
  {
   "cell_type": "code",
   "execution_count": 10,
   "id": "9caa6907",
   "metadata": {},
   "outputs": [
    {
     "data": {
      "text/plain": [
       "((4424,), (4424, 20))"
      ]
     },
     "execution_count": 10,
     "metadata": {},
     "output_type": "execute_result"
    }
   ],
   "source": [
    "target = ds['Target']\n",
    "features = ds.drop(['Target'], axis=1)\n",
    "target.shape, features.shape"
   ]
  },
  {
   "cell_type": "code",
   "execution_count": 11,
   "id": "a929d06e",
   "metadata": {},
   "outputs": [
    {
     "data": {
      "text/plain": [
       "array(['Dropout', 'Graduate', 'Enrolled'], dtype=object)"
      ]
     },
     "execution_count": 11,
     "metadata": {},
     "output_type": "execute_result"
    }
   ],
   "source": [
    "ds['Target'].unique()"
   ]
  },
  {
   "cell_type": "code",
   "execution_count": 12,
   "id": "32c63690",
   "metadata": {
    "scrolled": true
   },
   "outputs": [
    {
     "data": {
      "text/plain": [
       "Target\n",
       "Graduate    2209\n",
       "Dropout     1421\n",
       "Enrolled     794\n",
       "Name: count, dtype: int64"
      ]
     },
     "execution_count": 12,
     "metadata": {},
     "output_type": "execute_result"
    }
   ],
   "source": [
    "ds['Target'].value_counts()"
   ]
  },
  {
   "cell_type": "markdown",
   "id": "d1a322ce",
   "metadata": {},
   "source": [
    "***Box Plot***"
   ]
  },
  {
   "cell_type": "code",
   "execution_count": 13,
   "id": "136b5a39",
   "metadata": {},
   "outputs": [],
   "source": [
    "l = ['Curricular units 1st sem (enrolled)','Curricular units 1st sem (approved)','Curricular units 2nd sem (enrolled)','Curricular units 2nd sem (approved)']"
   ]
  },
  {
   "cell_type": "code",
   "execution_count": 14,
   "id": "28e6bce5",
   "metadata": {
    "scrolled": true
   },
   "outputs": [
    {
     "data": {
      "text/html": [
       "<div>\n",
       "<style scoped>\n",
       "    .dataframe tbody tr th:only-of-type {\n",
       "        vertical-align: middle;\n",
       "    }\n",
       "\n",
       "    .dataframe tbody tr th {\n",
       "        vertical-align: top;\n",
       "    }\n",
       "\n",
       "    .dataframe thead th {\n",
       "        text-align: right;\n",
       "    }\n",
       "</style>\n",
       "<table border=\"1\" class=\"dataframe\">\n",
       "  <thead>\n",
       "    <tr style=\"text-align: right;\">\n",
       "      <th></th>\n",
       "      <th>Curricular units 1st sem (enrolled)</th>\n",
       "      <th>Curricular units 1st sem (approved)</th>\n",
       "      <th>Curricular units 2nd sem (enrolled)</th>\n",
       "      <th>Curricular units 2nd sem (approved)</th>\n",
       "    </tr>\n",
       "  </thead>\n",
       "  <tbody>\n",
       "    <tr>\n",
       "      <th>0</th>\n",
       "      <td>0</td>\n",
       "      <td>0</td>\n",
       "      <td>0</td>\n",
       "      <td>0</td>\n",
       "    </tr>\n",
       "    <tr>\n",
       "      <th>1</th>\n",
       "      <td>6</td>\n",
       "      <td>6</td>\n",
       "      <td>6</td>\n",
       "      <td>6</td>\n",
       "    </tr>\n",
       "    <tr>\n",
       "      <th>2</th>\n",
       "      <td>6</td>\n",
       "      <td>0</td>\n",
       "      <td>6</td>\n",
       "      <td>0</td>\n",
       "    </tr>\n",
       "    <tr>\n",
       "      <th>3</th>\n",
       "      <td>6</td>\n",
       "      <td>6</td>\n",
       "      <td>6</td>\n",
       "      <td>5</td>\n",
       "    </tr>\n",
       "    <tr>\n",
       "      <th>4</th>\n",
       "      <td>6</td>\n",
       "      <td>5</td>\n",
       "      <td>6</td>\n",
       "      <td>6</td>\n",
       "    </tr>\n",
       "  </tbody>\n",
       "</table>\n",
       "</div>"
      ],
      "text/plain": [
       "   Curricular units 1st sem (enrolled)  Curricular units 1st sem (approved)   \n",
       "0                                    0                                    0  \\\n",
       "1                                    6                                    6   \n",
       "2                                    6                                    0   \n",
       "3                                    6                                    6   \n",
       "4                                    6                                    5   \n",
       "\n",
       "   Curricular units 2nd sem (enrolled)  Curricular units 2nd sem (approved)  \n",
       "0                                    0                                    0  \n",
       "1                                    6                                    6  \n",
       "2                                    6                                    0  \n",
       "3                                    6                                    5  \n",
       "4                                    6                                    6  "
      ]
     },
     "execution_count": 14,
     "metadata": {},
     "output_type": "execute_result"
    }
   ],
   "source": [
    "ds[l].head()"
   ]
  },
  {
   "cell_type": "code",
   "execution_count": 15,
   "id": "de1d9b93",
   "metadata": {
    "scrolled": false
   },
   "outputs": [
    {
     "data": {
      "image/png": "[encoded data removed]",
      "text/plain": [
       "<Figure size 640x480 with 1 Axes>"
      ]
     },
     "metadata": {},
     "output_type": "display_data"
    }
   ],
   "source": [
    "ax = sns.boxplot(data = ds[l], orient = 'h')"
   ]
  },
  {
   "cell_type": "markdown",
   "id": "abdfdb86",
   "metadata": {},
   "source": [
    "***Graphs***"
   ]
  },
  {
   "cell_type": "code",
   "execution_count": 16,
   "id": "fb655893",
   "metadata": {},
   "outputs": [
    {
     "data": {
      "image/png": "[encoded data removed]",
      "text/plain": [
       "<Figure size 640x480 with 1 Axes>"
      ]
     },
     "metadata": {},
     "output_type": "display_data"
    }
   ],
   "source": [
    "#info by gender\n",
    "sns.countplot(data=ds, x='Gender', hue='Target', hue_order=['Enrolled', 'Dropout', 'Graduate'])\n",
    "plt.xticks(ticks=[0,1], labels=['Homme','Femme'])\n",
    "plt.ylabel('Nombre etudiants')\n",
    "plt.show()"
   ]
  },
  {
   "cell_type": "code",
   "execution_count": 17,
   "id": "c1bfcbdc",
   "metadata": {},
   "outputs": [
    {
     "data": {
      "image/png": "[encoded data removed]",
      "text/plain": [
       "<Figure size 900x400 with 1 Axes>"
      ]
     },
     "metadata": {},
     "output_type": "display_data"
    }
   ],
   "source": [
    "plt.figure(figsize=(9,4))\n",
    "\n",
    "sns.countplot(data=ds, x='Marital status', hue='Target', hue_order=['Enrolled', 'Dropout', 'Graduate'])\n",
    "\n",
    "plt.xticks(ticks=[0,1,2,3], labels=['Celibataire','Marrié','veuf','Divorcé'])\n",
    "plt.xlabel('Marital Status')\n",
    "plt.ylabel('Nombre etudiants')\n",
    "plt.show()"
   ]
  },
  {
   "cell_type": "markdown",
   "id": "c7456eaa",
   "metadata": {},
   "source": [
    "***Pourcentage des étudiants diplomées et décrocheurs***"
   ]
  },
  {
   "cell_type": "code",
   "execution_count": 18,
   "id": "f5026310",
   "metadata": {
    "scrolled": false
   },
   "outputs": [
    {
     "data": {
      "image/png": "[encoded data removed]",
      "text/plain": [
       "<Figure size 640x480 with 1 Axes>"
      ]
     },
     "metadata": {},
     "output_type": "display_data"
    }
   ],
   "source": [
    "st = ds['Target'].value_counts()\n",
    "\n",
    "plt.pie(st, labels=st.index, autopct='%1.1f%%')\n",
    "plt.title('Pourcentage des étudiants diplomées et décrocheurs')\n",
    "plt.show()"
   ]
  },
  {
   "cell_type": "markdown",
   "id": "7d555b86",
   "metadata": {},
   "source": [
    "## 3. Preparation des données"
   ]
  },
  {
   "cell_type": "code",
   "execution_count": 19,
   "id": "e5f47bc1",
   "metadata": {},
   "outputs": [],
   "source": [
    "df = ds.copy()"
   ]
  },
  {
   "cell_type": "code",
   "execution_count": 20,
   "id": "ce2b653c",
   "metadata": {},
   "outputs": [],
   "source": [
    "df = df.drop_duplicates()"
   ]
  },
  {
   "cell_type": "code",
   "execution_count": 21,
   "id": "1494c47c",
   "metadata": {},
   "outputs": [],
   "source": [
    "df = df.drop(['course_name'], axis=1)"
   ]
  },
  {
   "cell_type": "code",
   "execution_count": 22,
   "id": "9e84be65",
   "metadata": {},
   "outputs": [
    {
     "name": "stdout",
     "output_type": "stream",
     "text": [
      "\n",
      "Nom des colonnes et type des données: \n",
      "Marital status                           int64\n",
      "Daytime/evening attendance               int64\n",
      "Nationality                              int64\n",
      "Previous qualification                   int64\n",
      "Mother's qualification                   int64\n",
      "Father's qualification                   int64\n",
      "Gender                                   int64\n",
      "Age at enrollment                        int64\n",
      "enrollement_year                         int64\n",
      "Number of semesters                      int64\n",
      "Curricular units 1st sem (enrolled)      int64\n",
      "Curricular units 1st sem (approved)      int64\n",
      "Curricular units 1st sem (grade)       float64\n",
      "Curricular units 2nd sem (enrolled)      int64\n",
      "Curricular units 2nd sem (approved)      int64\n",
      "Curricular units 2nd sem (grade)       float64\n",
      "Unemployment rate                      float64\n",
      "Inflation rate                         float64\n",
      "GDP                                    float64\n",
      "Target                                  object\n",
      "dtype: object\n"
     ]
    }
   ],
   "source": [
    "print(\"\\nNom des colonnes et type des données: \")\n",
    "print(df.dtypes)"
   ]
  },
  {
   "cell_type": "code",
   "execution_count": 23,
   "id": "ed421c14",
   "metadata": {},
   "outputs": [
    {
     "name": "stdout",
     "output_type": "stream",
     "text": [
      "\n",
      "Nom des colonnes et type des données: \n",
      "Marital status                           int64\n",
      "Daytime/evening attendance               int64\n",
      "Nationality                              int64\n",
      "Previous qualification                   int64\n",
      "Mother's qualification                   int64\n",
      "Father's qualification                   int64\n",
      "Gender                                   int64\n",
      "Age at enrollment                        int64\n",
      "enrollement_year                         int64\n",
      "Number of semesters                      int64\n",
      "Curricular units 1st sem (enrolled)      int64\n",
      "Curricular units 1st sem (approved)      int64\n",
      "Curricular units 1st sem (grade)       float64\n",
      "Curricular units 2nd sem (enrolled)      int64\n",
      "Curricular units 2nd sem (approved)      int64\n",
      "Curricular units 2nd sem (grade)       float64\n",
      "Unemployment rate                      float64\n",
      "Inflation rate                         float64\n",
      "GDP                                    float64\n",
      "Target                                  object\n",
      "dtype: object\n"
     ]
    }
   ],
   "source": [
    "print(\"\\nNom des colonnes et type des données: \")\n",
    "print(df.dtypes)"
   ]
  },
  {
   "cell_type": "code",
   "execution_count": 24,
   "id": "ba5f31b4",
   "metadata": {
    "scrolled": false
   },
   "outputs": [
    {
     "data": {
      "text/plain": [
       "Marital status                         0\n",
       "Daytime/evening attendance             0\n",
       "Nationality                            0\n",
       "Previous qualification                 0\n",
       "Mother's qualification                 0\n",
       "Father's qualification                 0\n",
       "Gender                                 0\n",
       "Age at enrollment                      0\n",
       "enrollement_year                       0\n",
       "Number of semesters                    0\n",
       "Curricular units 1st sem (enrolled)    0\n",
       "Curricular units 1st sem (approved)    0\n",
       "Curricular units 1st sem (grade)       0\n",
       "Curricular units 2nd sem (enrolled)    0\n",
       "Curricular units 2nd sem (approved)    0\n",
       "Curricular units 2nd sem (grade)       0\n",
       "Unemployment rate                      0\n",
       "Inflation rate                         0\n",
       "GDP                                    0\n",
       "Target                                 0\n",
       "dtype: int64"
      ]
     },
     "execution_count": 24,
     "metadata": {},
     "output_type": "execute_result"
    }
   ],
   "source": [
    "df.isnull().sum()"
   ]
  },
  {
   "cell_type": "markdown",
   "id": "a28093f2",
   "metadata": {},
   "source": [
    "***Encoding categorical data***"
   ]
  },
  {
   "cell_type": "code",
   "execution_count": 25,
   "id": "e3dd4288",
   "metadata": {},
   "outputs": [],
   "source": [
    "df['BinaryTarget'] = df['Target'].apply(lambda x: 0 if x == 'Dropout' else 1)"
   ]
  },
  {
   "cell_type": "code",
   "execution_count": 26,
   "id": "3cad5323",
   "metadata": {},
   "outputs": [],
   "source": [
    "df = df[df['Target'] != 'Enrolled']"
   ]
  },
  {
   "cell_type": "code",
   "execution_count": 27,
   "id": "a68671bc",
   "metadata": {},
   "outputs": [
    {
     "data": {
      "text/plain": [
       "Target\n",
       "Graduate    2209\n",
       "Dropout     1421\n",
       "Name: count, dtype: int64"
      ]
     },
     "execution_count": 27,
     "metadata": {},
     "output_type": "execute_result"
    }
   ],
   "source": [
    "df['Target'].value_counts()"
   ]
  },
  {
   "cell_type": "code",
   "execution_count": 28,
   "id": "ca97153e",
   "metadata": {},
   "outputs": [
    {
     "data": {
      "text/plain": [
       "BinaryTarget\n",
       "1    2209\n",
       "0    1421\n",
       "Name: count, dtype: int64"
      ]
     },
     "execution_count": 28,
     "metadata": {},
     "output_type": "execute_result"
    }
   ],
   "source": [
    "df['BinaryTarget'].value_counts()"
   ]
  },
  {
   "cell_type": "code",
   "execution_count": 29,
   "id": "48149965",
   "metadata": {},
   "outputs": [],
   "source": [
    "df_new = df.drop(['Target'], axis=1)"
   ]
  },
  {
   "cell_type": "code",
   "execution_count": 30,
   "id": "ef1634e1",
   "metadata": {},
   "outputs": [
    {
     "name": "stdout",
     "output_type": "stream",
     "text": [
      "\n",
      "Les 5 premieres lignes:  \n",
      "    Marital status  Daytime/evening attendance  Nationality   \n",
      "0               1                           1           15  \\\n",
      "1               1                           1            1   \n",
      "2               1                           1           20   \n",
      "3               1                           1            1   \n",
      "4               2                           0           21   \n",
      "\n",
      "   Previous qualification  Mother's qualification  Father's qualification   \n",
      "0                       1                      13                      10  \\\n",
      "1                       1                       1                       3   \n",
      "2                       1                      22                      27   \n",
      "3                       1                      23                      27   \n",
      "4                       1                      22                      28   \n",
      "\n",
      "   Gender  Age at enrollment  enrollement_year  Number of semesters   \n",
      "0       1                 20              2020                    5  \\\n",
      "1       1                 19              2019                    3   \n",
      "2       1                 19              2018                    5   \n",
      "3       0                 20              2018                    5   \n",
      "4       0                 45              2021                    3   \n",
      "\n",
      "   Curricular units 1st sem (enrolled)  Curricular units 1st sem (approved)   \n",
      "0                                    0                                    0  \\\n",
      "1                                    6                                    6   \n",
      "2                                    6                                    0   \n",
      "3                                    6                                    6   \n",
      "4                                    6                                    5   \n",
      "\n",
      "   Curricular units 1st sem (grade)  Curricular units 2nd sem (enrolled)   \n",
      "0                          0.000000                                    0  \\\n",
      "1                         14.000000                                    6   \n",
      "2                          0.000000                                    6   \n",
      "3                         13.428571                                    6   \n",
      "4                         12.333333                                    6   \n",
      "\n",
      "   Curricular units 2nd sem (approved)  Curricular units 2nd sem (grade)   \n",
      "0                                    0                          0.000000  \\\n",
      "1                                    6                         13.666667   \n",
      "2                                    0                          0.000000   \n",
      "3                                    5                         12.400000   \n",
      "4                                    6                         13.000000   \n",
      "\n",
      "   Unemployment rate  Inflation rate   GDP  BinaryTarget  \n",
      "0               10.8             1.4  1.74             0  \n",
      "1               13.9            -0.3  0.79             1  \n",
      "2               10.8             1.4  1.74             0  \n",
      "3                9.4            -0.8 -3.12             1  \n",
      "4               13.9            -0.3  0.79             1  \n",
      "\n",
      "Les 5 dernieres lignes:  \n",
      "       Marital status  Daytime/evening attendance  Nationality   \n",
      "4419               1                           1            1  \\\n",
      "4420               1                           1            1   \n",
      "4421               1                           1            2   \n",
      "4422               1                           1           17   \n",
      "4423               1                           1            9   \n",
      "\n",
      "      Previous qualification  Mother's qualification  Father's qualification   \n",
      "4419                       1                       1                       1  \\\n",
      "4420                       1                       1                       1   \n",
      "4421                       1                      22                      27   \n",
      "4422                       1                      22                      27   \n",
      "4423                       1                      23                      27   \n",
      "\n",
      "      Gender  Age at enrollment  enrollement_year  Number of semesters   \n",
      "4419       1                 19              2019                    5  \\\n",
      "4420       0                 18              2021                    5   \n",
      "4421       0                 30              2021                    3   \n",
      "4422       0                 20              2018                    5   \n",
      "4423       0                 22              2020                    5   \n",
      "\n",
      "      Curricular units 1st sem (enrolled)   \n",
      "4419                                    6  \\\n",
      "4420                                    6   \n",
      "4421                                    7   \n",
      "4422                                    5   \n",
      "4423                                    6   \n",
      "\n",
      "      Curricular units 1st sem (approved)  Curricular units 1st sem (grade)   \n",
      "4419                                    5                         13.600000  \\\n",
      "4420                                    6                         12.000000   \n",
      "4421                                    7                         14.912500   \n",
      "4422                                    5                         13.800000   \n",
      "4423                                    6                         11.666667   \n",
      "\n",
      "      Curricular units 2nd sem (enrolled)   \n",
      "4419                                    6  \\\n",
      "4420                                    6   \n",
      "4421                                    8   \n",
      "4422                                    5   \n",
      "4423                                    6   \n",
      "\n",
      "      Curricular units 2nd sem (approved)  Curricular units 2nd sem (grade)   \n",
      "4419                                    5                         12.666667  \\\n",
      "4420                                    2                         11.000000   \n",
      "4421                                    1                         13.500000   \n",
      "4422                                    5                         12.000000   \n",
      "4423                                    6                         13.000000   \n",
      "\n",
      "      Unemployment rate  Inflation rate   GDP  BinaryTarget  \n",
      "4419               15.5             2.8 -4.06             1  \n",
      "4420               11.1             0.6  2.02             0  \n",
      "4421               13.9            -0.3  0.79             0  \n",
      "4422                9.4            -0.8 -3.12             1  \n",
      "4423               12.7             3.7 -1.70             1  \n"
     ]
    }
   ],
   "source": [
    "print(\"\\nLes 5 premieres lignes: \",\"\\n\",df_new.head())\n",
    "print(\"\\nLes 5 dernieres lignes: \",\"\\n\",df_new.tail())"
   ]
  },
  {
   "cell_type": "markdown",
   "id": "b136719c",
   "metadata": {},
   "source": [
    "***Splitting dataset into train and test sets***"
   ]
  },
  {
   "cell_type": "code",
   "execution_count": 31,
   "id": "b9cb16ba",
   "metadata": {},
   "outputs": [
    {
     "data": {
      "text/plain": [
       "Index(['Marital status', 'Daytime/evening attendance', 'Nationality',\n",
       "       'Previous qualification', 'Mother's qualification',\n",
       "       'Father's qualification', 'Gender', 'Age at enrollment',\n",
       "       'enrollement_year', 'Number of semesters',\n",
       "       'Curricular units 1st sem (enrolled)',\n",
       "       'Curricular units 1st sem (approved)',\n",
       "       'Curricular units 1st sem (grade)',\n",
       "       'Curricular units 2nd sem (enrolled)',\n",
       "       'Curricular units 2nd sem (approved)',\n",
       "       'Curricular units 2nd sem (grade)', 'Unemployment rate',\n",
       "       'Inflation rate', 'GDP', 'BinaryTarget'],\n",
       "      dtype='object')"
      ]
     },
     "execution_count": 31,
     "metadata": {},
     "output_type": "execute_result"
    }
   ],
   "source": [
    "df_new.columns"
   ]
  },
  {
   "cell_type": "code",
   "execution_count": 32,
   "id": "b65d5872",
   "metadata": {
    "scrolled": false
   },
   "outputs": [
    {
     "name": "stdout",
     "output_type": "stream",
     "text": [
      "Training set shape: (2904, 19)\n",
      "Testing set shape: (726, 19)\n"
     ]
    }
   ],
   "source": [
    "from sklearn.model_selection import train_test_split\n",
    "\n",
    "\n",
    "\n",
    "# Split the data into training and testing sets\n",
    "X = df_new.drop('BinaryTarget', axis=1)  # Features (all columns except the target)\n",
    "y = df_new['BinaryTarget']  # Target variable\n",
    "\n",
    "X_train, X_test, y_train, y_test = train_test_split(X, y, test_size=0.2, random_state=42)\n",
    "\n",
    "# Verify the shape of the split datasets\n",
    "print(\"Training set shape:\", X_train.shape)\n",
    "print(\"Testing set shape:\", X_test.shape)\n",
    "\n",
    "\n"
   ]
  },
  {
   "cell_type": "code",
   "execution_count": 33,
   "id": "204268f3",
   "metadata": {
    "scrolled": true
   },
   "outputs": [
    {
     "name": "stdout",
     "output_type": "stream",
     "text": [
      "Index(['Marital status', 'Daytime/evening attendance', 'Nationality',\n",
      "       'Previous qualification', 'Mother's qualification',\n",
      "       'Father's qualification', 'Gender', 'Age at enrollment',\n",
      "       'enrollement_year', 'Number of semesters',\n",
      "       'Curricular units 1st sem (enrolled)',\n",
      "       'Curricular units 1st sem (approved)',\n",
      "       'Curricular units 1st sem (grade)',\n",
      "       'Curricular units 2nd sem (enrolled)',\n",
      "       'Curricular units 2nd sem (approved)',\n",
      "       'Curricular units 2nd sem (grade)', 'Unemployment rate',\n",
      "       'Inflation rate', 'GDP', 'BinaryTarget'],\n",
      "      dtype='object')\n"
     ]
    }
   ],
   "source": [
    "print (df_new.columns)"
   ]
  },
  {
   "cell_type": "code",
   "execution_count": 34,
   "id": "caa6abe4",
   "metadata": {},
   "outputs": [
    {
     "name": "stdout",
     "output_type": "stream",
     "text": [
      "Index(['Marital status', 'Daytime/evening attendance', 'Nationality',\n",
      "       'Previous qualification', 'Mother's qualification',\n",
      "       'Father's qualification', 'Gender', 'Age at enrollment',\n",
      "       'enrollement_year', 'Number of semesters',\n",
      "       'Curricular units 1st sem (enrolled)',\n",
      "       'Curricular units 1st sem (approved)',\n",
      "       'Curricular units 1st sem (grade)',\n",
      "       'Curricular units 2nd sem (enrolled)',\n",
      "       'Curricular units 2nd sem (approved)',\n",
      "       'Curricular units 2nd sem (grade)', 'Unemployment rate',\n",
      "       'Inflation rate', 'GDP'],\n",
      "      dtype='object')\n"
     ]
    }
   ],
   "source": [
    "print(X.columns)"
   ]
  },
  {
   "cell_type": "markdown",
   "id": "039c6e4e",
   "metadata": {},
   "source": [
    "***Feature Scaling***"
   ]
  },
  {
   "cell_type": "code",
   "execution_count": 35,
   "id": "43f5d251",
   "metadata": {},
   "outputs": [],
   "source": [
    "from sklearn.preprocessing import StandardScaler\n",
    "scaler = StandardScaler()"
   ]
  },
  {
   "cell_type": "code",
   "execution_count": 36,
   "id": "27e83077",
   "metadata": {},
   "outputs": [],
   "source": [
    "X_train_sc = scaler.fit_transform(X_train)\n",
    "X_test_sc = scaler.transform(X_test)"
   ]
  },
  {
   "cell_type": "code",
   "execution_count": 37,
   "id": "ee9263f4",
   "metadata": {},
   "outputs": [
    {
     "data": {
      "text/plain": [
       "Marital status                            1.00\n",
       "Daytime/evening attendance                1.00\n",
       "Nationality                               1.00\n",
       "Previous qualification                    1.00\n",
       "Mother's qualification                    3.00\n",
       "Father's qualification                   28.00\n",
       "Gender                                    0.00\n",
       "Age at enrollment                        19.00\n",
       "enrollement_year                       2018.00\n",
       "Number of semesters                       3.00\n",
       "Curricular units 1st sem (enrolled)       5.00\n",
       "Curricular units 1st sem (approved)       0.00\n",
       "Curricular units 1st sem (grade)          0.00\n",
       "Curricular units 2nd sem (enrolled)       6.00\n",
       "Curricular units 2nd sem (approved)       0.00\n",
       "Curricular units 2nd sem (grade)          0.00\n",
       "Unemployment rate                        10.80\n",
       "Inflation rate                            1.40\n",
       "GDP                                       1.74\n",
       "Name: 1116, dtype: float64"
      ]
     },
     "execution_count": 37,
     "metadata": {},
     "output_type": "execute_result"
    }
   ],
   "source": [
    "X_train.iloc[0, :]\n"
   ]
  },
  {
   "cell_type": "code",
   "execution_count": 38,
   "id": "125c9b00",
   "metadata": {
    "scrolled": true
   },
   "outputs": [
    {
     "data": {
      "text/plain": [
       "array([-0.29922036,  0.35128942, -0.7764275 , -0.39290902, -1.05535483,\n",
       "        1.03408304, -0.72140062, -0.56218202, -1.38255124, -1.01456893,\n",
       "       -0.51349665, -1.48403918, -2.07161895, -0.11666613, -1.42230225,\n",
       "       -1.80661618, -0.30949207,  0.11903334,  0.77497081])"
      ]
     },
     "execution_count": 38,
     "metadata": {},
     "output_type": "execute_result"
    }
   ],
   "source": [
    "X_train_sc[0,:]"
   ]
  },
  {
   "cell_type": "markdown",
   "id": "66c27e06",
   "metadata": {},
   "source": [
    "### . k Nearest Neighbors ###"
   ]
  },
  {
   "cell_type": "code",
   "execution_count": 39,
   "id": "bf24ed54",
   "metadata": {},
   "outputs": [],
   "source": [
    "from sklearn.neighbors import KNeighborsClassifier\n",
    "from sklearn.model_selection import GridSearchCV"
   ]
  },
  {
   "cell_type": "code",
   "execution_count": 40,
   "id": "2a5dc191",
   "metadata": {},
   "outputs": [],
   "source": [
    "knn = KNeighborsClassifier()"
   ]
  },
  {
   "cell_type": "markdown",
   "id": "04a89651",
   "metadata": {},
   "source": [
    "***Best N***"
   ]
  },
  {
   "cell_type": "code",
   "execution_count": 41,
   "id": "949f6f1b",
   "metadata": {},
   "outputs": [],
   "source": [
    "param_grid = {'n_neighbors': range(3, 16)}"
   ]
  },
  {
   "cell_type": "code",
   "execution_count": 42,
   "id": "aad0a956",
   "metadata": {},
   "outputs": [
    {
     "data": {
      "text/html": [
       "<style>#sk-container-id-1 {color: black;background-color: white;}#sk-container-id-1 pre{padding: 0;}#sk-container-id-1 div.sk-toggleable {background-color: white;}#sk-container-id-1 label.sk-toggleable__label {cursor: pointer;display: block;width: 100%;margin-bottom: 0;padding: 0.3em;box-sizing: border-box;text-align: center;}#sk-container-id-1 label.sk-toggleable__label-arrow:before {content: \"▸\";float: left;margin-right: 0.25em;color: #696969;}#sk-container-id-1 label.sk-toggleable__label-arrow:hover:before {color: black;}#sk-container-id-1 div.sk-estimator:hover label.sk-toggleable__label-arrow:before {color: black;}#sk-container-id-1 div.sk-toggleable__content {max-height: 0;max-width: 0;overflow: hidden;text-align: left;background-color: #f0f8ff;}#sk-container-id-1 div.sk-toggleable__content pre {margin: 0.2em;color: black;border-radius: 0.25em;background-color: #f0f8ff;}#sk-container-id-1 input.sk-toggleable__control:checked~div.sk-toggleable__content {max-height: 200px;max-width: 100%;overflow: auto;}#sk-container-id-1 input.sk-toggleable__control:checked~label.sk-toggleable__label-arrow:before {content: \"▾\";}#sk-container-id-1 div.sk-estimator input.sk-toggleable__control:checked~label.sk-toggleable__label {background-color: #d4ebff;}#sk-container-id-1 div.sk-label input.sk-toggleable__control:checked~label.sk-toggleable__label {background-color: #d4ebff;}#sk-container-id-1 input.sk-hidden--visually {border: 0;clip: rect(1px 1px 1px 1px);clip: rect(1px, 1px, 1px, 1px);height: 1px;margin: -1px;overflow: hidden;padding: 0;position: absolute;width: 1px;}#sk-container-id-1 div.sk-estimator {font-family: monospace;background-color: #f0f8ff;border: 1px dotted black;border-radius: 0.25em;box-sizing: border-box;margin-bottom: 0.5em;}#sk-container-id-1 div.sk-estimator:hover {background-color: #d4ebff;}#sk-container-id-1 div.sk-parallel-item::after {content: \"\";width: 100%;border-bottom: 1px solid gray;flex-grow: 1;}#sk-container-id-1 div.sk-label:hover label.sk-toggleable__label {background-color: #d4ebff;}#sk-container-id-1 div.sk-serial::before {content: \"\";position: absolute;border-left: 1px solid gray;box-sizing: border-box;top: 0;bottom: 0;left: 50%;z-index: 0;}#sk-container-id-1 div.sk-serial {display: flex;flex-direction: column;align-items: center;background-color: white;padding-right: 0.2em;padding-left: 0.2em;position: relative;}#sk-container-id-1 div.sk-item {position: relative;z-index: 1;}#sk-container-id-1 div.sk-parallel {display: flex;align-items: stretch;justify-content: center;background-color: white;position: relative;}#sk-container-id-1 div.sk-item::before, #sk-container-id-1 div.sk-parallel-item::before {content: \"\";position: absolute;border-left: 1px solid gray;box-sizing: border-box;top: 0;bottom: 0;left: 50%;z-index: -1;}#sk-container-id-1 div.sk-parallel-item {display: flex;flex-direction: column;z-index: 1;position: relative;background-color: white;}#sk-container-id-1 div.sk-parallel-item:first-child::after {align-self: flex-end;width: 50%;}#sk-container-id-1 div.sk-parallel-item:last-child::after {align-self: flex-start;width: 50%;}#sk-container-id-1 div.sk-parallel-item:only-child::after {width: 0;}#sk-container-id-1 div.sk-dashed-wrapped {border: 1px dashed gray;margin: 0 0.4em 0.5em 0.4em;box-sizing: border-box;padding-bottom: 0.4em;background-color: white;}#sk-container-id-1 div.sk-label label {font-family: monospace;font-weight: bold;display: inline-block;line-height: 1.2em;}#sk-container-id-1 div.sk-label-container {text-align: center;}#sk-container-id-1 div.sk-container {/* jupyter's `normalize.less` sets `[hidden] { display: none; }` but bootstrap.min.css set `[hidden] { display: none !important; }` so we also need the `!important` here to be able to override the default hidden behavior on the sphinx rendered scikit-learn.org. See: https://github.com/scikit-learn/scikit-learn/issues/21755 */display: inline-block !important;position: relative;}#sk-container-id-1 div.sk-text-repr-fallback {display: none;}</style><div id=\"sk-container-id-1\" class=\"sk-top-container\"><div class=\"sk-text-repr-fallback\"><pre>GridSearchCV(cv=5, estimator=KNeighborsClassifier(),\n",
       "             param_grid={&#x27;n_neighbors&#x27;: range(3, 16)})</pre><b>In a Jupyter environment, please rerun this cell to show the HTML representation or trust the notebook. <br />On GitHub, the HTML representation is unable to render, please try loading this page with nbviewer.org.</b></div><div class=\"sk-container\" hidden><div class=\"sk-item sk-dashed-wrapped\"><div class=\"sk-label-container\"><div class=\"sk-label sk-toggleable\"><input class=\"sk-toggleable__control sk-hidden--visually\" id=\"sk-estimator-id-1\" type=\"checkbox\" ><label for=\"sk-estimator-id-1\" class=\"sk-toggleable__label sk-toggleable__label-arrow\">GridSearchCV</label><div class=\"sk-toggleable__content\"><pre>GridSearchCV(cv=5, estimator=KNeighborsClassifier(),\n",
       "             param_grid={&#x27;n_neighbors&#x27;: range(3, 16)})</pre></div></div></div><div class=\"sk-parallel\"><div class=\"sk-parallel-item\"><div class=\"sk-item\"><div class=\"sk-label-container\"><div class=\"sk-label sk-toggleable\"><input class=\"sk-toggleable__control sk-hidden--visually\" id=\"sk-estimator-id-2\" type=\"checkbox\" ><label for=\"sk-estimator-id-2\" class=\"sk-toggleable__label sk-toggleable__label-arrow\">estimator: KNeighborsClassifier</label><div class=\"sk-toggleable__content\"><pre>KNeighborsClassifier()</pre></div></div></div><div class=\"sk-serial\"><div class=\"sk-item\"><div class=\"sk-estimator sk-toggleable\"><input class=\"sk-toggleable__control sk-hidden--visually\" id=\"sk-estimator-id-3\" type=\"checkbox\" ><label for=\"sk-estimator-id-3\" class=\"sk-toggleable__label sk-toggleable__label-arrow\">KNeighborsClassifier</label><div class=\"sk-toggleable__content\"><pre>KNeighborsClassifier()</pre></div></div></div></div></div></div></div></div></div></div>"
      ],
      "text/plain": [
       "GridSearchCV(cv=5, estimator=KNeighborsClassifier(),\n",
       "             param_grid={'n_neighbors': range(3, 16)})"
      ]
     },
     "execution_count": 42,
     "metadata": {},
     "output_type": "execute_result"
    }
   ],
   "source": [
    "grid_search = GridSearchCV(knn, param_grid, cv=5)\n",
    "grid_search.fit(X_train_sc, y_train)"
   ]
  },
  {
   "cell_type": "code",
   "execution_count": 43,
   "id": "dec482f4",
   "metadata": {},
   "outputs": [
    {
     "name": "stdout",
     "output_type": "stream",
     "text": [
      "Best parameter: {'n_neighbors': 12}\n",
      "Best score: 0.8343622766929787\n"
     ]
    }
   ],
   "source": [
    "print(\"Best parameter:\", grid_search.best_params_)\n",
    "print(\"Best score:\", grid_search.best_score_)"
   ]
  },
  {
   "cell_type": "markdown",
   "id": "c35877dd",
   "metadata": {},
   "source": [
    "***Knn algorithm***"
   ]
  },
  {
   "cell_type": "code",
   "execution_count": 44,
   "id": "a2f89e08",
   "metadata": {},
   "outputs": [],
   "source": [
    "# Create a KNN model with the optimal n_neighbors value\n",
    "knn_optimal = KNeighborsClassifier(n_neighbors=13)\n",
    "\n",
    "# Fit the model to the scaled training data\n",
    "knn_optimal.fit(X_train_sc, y_train)\n",
    "\n",
    "# Make predictions on the scaled testing data\n",
    "y_pred_knn = knn_optimal.predict(X_test_sc)\n",
    "\n"
   ]
  },
  {
   "cell_type": "code",
   "execution_count": 45,
   "id": "5985b513",
   "metadata": {},
   "outputs": [],
   "source": [
    "from sklearn.metrics import accuracy_score, confusion_matrix"
   ]
  },
  {
   "cell_type": "code",
   "execution_count": 46,
   "id": "57ea7953",
   "metadata": {},
   "outputs": [
    {
     "name": "stdout",
     "output_type": "stream",
     "text": [
      "Confusion matrix knn \n",
      " [[154 123]\n",
      " [ 15 434]]\n",
      "Accuracy knn 0.8099173553719008\n"
     ]
    }
   ],
   "source": [
    "print('Confusion matrix knn \\n', confusion_matrix(y_test,y_pred_knn))\n",
    "print('Accuracy knn', accuracy_score(y_test,y_pred_knn))"
   ]
  },
  {
   "cell_type": "code",
   "execution_count": 47,
   "id": "63b4a616",
   "metadata": {},
   "outputs": [],
   "source": [
    "from sklearn.metrics import precision_score, recall_score"
   ]
  },
  {
   "cell_type": "code",
   "execution_count": 48,
   "id": "ccd042e7",
   "metadata": {},
   "outputs": [
    {
     "name": "stdout",
     "output_type": "stream",
     "text": [
      "Recall knn 0.9665924276169265\n",
      "Precision knn 0.7791741472172352\n"
     ]
    }
   ],
   "source": [
    "print('Recall knn', recall_score(y_test,y_pred_knn))\n",
    "print('Precision knn', precision_score(y_test,y_pred_knn))"
   ]
  },
  {
   "cell_type": "code",
   "execution_count": 49,
   "id": "ce57d3d3",
   "metadata": {},
   "outputs": [],
   "source": [
    "from sklearn.metrics import classification_report"
   ]
  },
  {
   "cell_type": "code",
   "execution_count": 50,
   "id": "192082f7",
   "metadata": {},
   "outputs": [
    {
     "name": "stdout",
     "output_type": "stream",
     "text": [
      "              precision    recall  f1-score   support\n",
      "\n",
      "           0       0.91      0.56      0.69       277\n",
      "           1       0.78      0.97      0.86       449\n",
      "\n",
      "    accuracy                           0.81       726\n",
      "   macro avg       0.85      0.76      0.78       726\n",
      "weighted avg       0.83      0.81      0.80       726\n",
      "\n"
     ]
    }
   ],
   "source": [
    "print(classification_report(y_test,y_pred_knn))"
   ]
  },
  {
   "cell_type": "markdown",
   "id": "0db0c29a",
   "metadata": {},
   "source": [
    "***Grid Search***"
   ]
  },
  {
   "cell_type": "code",
   "execution_count": 51,
   "id": "8bc4b448",
   "metadata": {},
   "outputs": [
    {
     "name": "stdout",
     "output_type": "stream",
     "text": [
      "{'n_neighbors': 13}\n",
      "0.8274746275743368\n"
     ]
    }
   ],
   "source": [
    "from sklearn.model_selection import GridSearchCV\n",
    "parameters = {'n_neighbors' : [1,3,5,7,9,11,13]}\n",
    "model = KNeighborsClassifier()\n",
    "clf = GridSearchCV(model,parameters, scoring='accuracy', cv=5)\n",
    "grille = clf.fit(X_train_sc,y_train)\n",
    "print(grille.best_params_)\n",
    "print(grille.best_score_)\n"
   ]
  },
  {
   "cell_type": "code",
   "execution_count": 52,
   "id": "c4285ace",
   "metadata": {},
   "outputs": [],
   "source": [
    "y_pred_knn_o = grille.predict(X_test_sc)"
   ]
  },
  {
   "cell_type": "code",
   "execution_count": 53,
   "id": "f262ab92",
   "metadata": {
    "scrolled": true
   },
   "outputs": [
    {
     "name": "stdout",
     "output_type": "stream",
     "text": [
      "Confusion matrix knn op \n",
      " [[154 123]\n",
      " [ 15 434]]\n",
      "Accuracy knn op 0.8099173553719008\n",
      "Recall knn op 0.9665924276169265\n",
      "Precision knn op 0.7791741472172352\n"
     ]
    }
   ],
   "source": [
    "print('Confusion matrix knn op \\n', confusion_matrix(y_test,y_pred_knn_o))\n",
    "print('Accuracy knn op', accuracy_score(y_test,y_pred_knn_o))\n",
    "print('Recall knn op', recall_score(y_test,y_pred_knn_o))\n",
    "print('Precision knn op', precision_score(y_test,y_pred_knn_o))"
   ]
  },
  {
   "cell_type": "code",
   "execution_count": 54,
   "id": "532161ef",
   "metadata": {},
   "outputs": [
    {
     "name": "stdout",
     "output_type": "stream",
     "text": [
      "              precision    recall  f1-score   support\n",
      "\n",
      "           0       0.91      0.56      0.69       277\n",
      "           1       0.78      0.97      0.86       449\n",
      "\n",
      "    accuracy                           0.81       726\n",
      "   macro avg       0.85      0.76      0.78       726\n",
      "weighted avg       0.83      0.81      0.80       726\n",
      "\n"
     ]
    }
   ],
   "source": [
    "print(classification_report(y_test,y_pred_knn_o))"
   ]
  },
  {
   "cell_type": "markdown",
   "id": "08481a38",
   "metadata": {},
   "source": [
    "***decision tree***"
   ]
  },
  {
   "cell_type": "code",
   "execution_count": 55,
   "id": "efab9b37",
   "metadata": {},
   "outputs": [],
   "source": [
    "from sklearn.tree import DecisionTreeClassifier\n",
    "dt = DecisionTreeClassifier()"
   ]
  },
  {
   "cell_type": "code",
   "execution_count": 56,
   "id": "dfde6d51",
   "metadata": {},
   "outputs": [
    {
     "data": {
      "text/html": [
       "<style>#sk-container-id-2 {color: black;background-color: white;}#sk-container-id-2 pre{padding: 0;}#sk-container-id-2 div.sk-toggleable {background-color: white;}#sk-container-id-2 label.sk-toggleable__label {cursor: pointer;display: block;width: 100%;margin-bottom: 0;padding: 0.3em;box-sizing: border-box;text-align: center;}#sk-container-id-2 label.sk-toggleable__label-arrow:before {content: \"▸\";float: left;margin-right: 0.25em;color: #696969;}#sk-container-id-2 label.sk-toggleable__label-arrow:hover:before {color: black;}#sk-container-id-2 div.sk-estimator:hover label.sk-toggleable__label-arrow:before {color: black;}#sk-container-id-2 div.sk-toggleable__content {max-height: 0;max-width: 0;overflow: hidden;text-align: left;background-color: #f0f8ff;}#sk-container-id-2 div.sk-toggleable__content pre {margin: 0.2em;color: black;border-radius: 0.25em;background-color: #f0f8ff;}#sk-container-id-2 input.sk-toggleable__control:checked~div.sk-toggleable__content {max-height: 200px;max-width: 100%;overflow: auto;}#sk-container-id-2 input.sk-toggleable__control:checked~label.sk-toggleable__label-arrow:before {content: \"▾\";}#sk-container-id-2 div.sk-estimator input.sk-toggleable__control:checked~label.sk-toggleable__label {background-color: #d4ebff;}#sk-container-id-2 div.sk-label input.sk-toggleable__control:checked~label.sk-toggleable__label {background-color: #d4ebff;}#sk-container-id-2 input.sk-hidden--visually {border: 0;clip: rect(1px 1px 1px 1px);clip: rect(1px, 1px, 1px, 1px);height: 1px;margin: -1px;overflow: hidden;padding: 0;position: absolute;width: 1px;}#sk-container-id-2 div.sk-estimator {font-family: monospace;background-color: #f0f8ff;border: 1px dotted black;border-radius: 0.25em;box-sizing: border-box;margin-bottom: 0.5em;}#sk-container-id-2 div.sk-estimator:hover {background-color: #d4ebff;}#sk-container-id-2 div.sk-parallel-item::after {content: \"\";width: 100%;border-bottom: 1px solid gray;flex-grow: 1;}#sk-container-id-2 div.sk-label:hover label.sk-toggleable__label {background-color: #d4ebff;}#sk-container-id-2 div.sk-serial::before {content: \"\";position: absolute;border-left: 1px solid gray;box-sizing: border-box;top: 0;bottom: 0;left: 50%;z-index: 0;}#sk-container-id-2 div.sk-serial {display: flex;flex-direction: column;align-items: center;background-color: white;padding-right: 0.2em;padding-left: 0.2em;position: relative;}#sk-container-id-2 div.sk-item {position: relative;z-index: 1;}#sk-container-id-2 div.sk-parallel {display: flex;align-items: stretch;justify-content: center;background-color: white;position: relative;}#sk-container-id-2 div.sk-item::before, #sk-container-id-2 div.sk-parallel-item::before {content: \"\";position: absolute;border-left: 1px solid gray;box-sizing: border-box;top: 0;bottom: 0;left: 50%;z-index: -1;}#sk-container-id-2 div.sk-parallel-item {display: flex;flex-direction: column;z-index: 1;position: relative;background-color: white;}#sk-container-id-2 div.sk-parallel-item:first-child::after {align-self: flex-end;width: 50%;}#sk-container-id-2 div.sk-parallel-item:last-child::after {align-self: flex-start;width: 50%;}#sk-container-id-2 div.sk-parallel-item:only-child::after {width: 0;}#sk-container-id-2 div.sk-dashed-wrapped {border: 1px dashed gray;margin: 0 0.4em 0.5em 0.4em;box-sizing: border-box;padding-bottom: 0.4em;background-color: white;}#sk-container-id-2 div.sk-label label {font-family: monospace;font-weight: bold;display: inline-block;line-height: 1.2em;}#sk-container-id-2 div.sk-label-container {text-align: center;}#sk-container-id-2 div.sk-container {/* jupyter's `normalize.less` sets `[hidden] { display: none; }` but bootstrap.min.css set `[hidden] { display: none !important; }` so we also need the `!important` here to be able to override the default hidden behavior on the sphinx rendered scikit-learn.org. See: https://github.com/scikit-learn/scikit-learn/issues/21755 */display: inline-block !important;position: relative;}#sk-container-id-2 div.sk-text-repr-fallback {display: none;}</style><div id=\"sk-container-id-2\" class=\"sk-top-container\"><div class=\"sk-text-repr-fallback\"><pre>DecisionTreeClassifier()</pre><b>In a Jupyter environment, please rerun this cell to show the HTML representation or trust the notebook. <br />On GitHub, the HTML representation is unable to render, please try loading this page with nbviewer.org.</b></div><div class=\"sk-container\" hidden><div class=\"sk-item\"><div class=\"sk-estimator sk-toggleable\"><input class=\"sk-toggleable__control sk-hidden--visually\" id=\"sk-estimator-id-4\" type=\"checkbox\" checked><label for=\"sk-estimator-id-4\" class=\"sk-toggleable__label sk-toggleable__label-arrow\">DecisionTreeClassifier</label><div class=\"sk-toggleable__content\"><pre>DecisionTreeClassifier()</pre></div></div></div></div></div>"
      ],
      "text/plain": [
       "DecisionTreeClassifier()"
      ]
     },
     "execution_count": 56,
     "metadata": {},
     "output_type": "execute_result"
    }
   ],
   "source": [
    " dt.fit(X_train,y_train)"
   ]
  },
  {
   "cell_type": "code",
   "execution_count": 57,
   "id": "a2dbd7c8",
   "metadata": {},
   "outputs": [],
   "source": [
    " y_pred_dt = dt.predict(X_test)"
   ]
  },
  {
   "cell_type": "code",
   "execution_count": 58,
   "id": "00954221",
   "metadata": {},
   "outputs": [
    {
     "name": "stdout",
     "output_type": "stream",
     "text": [
      "Confusion matrix dt \n",
      " [[215  62]\n",
      " [ 75 374]]\n",
      "Accuracy dt 0.8112947658402204\n",
      "Recall dt 0.8329621380846325\n",
      "Precision dt 0.8577981651376146\n"
     ]
    }
   ],
   "source": [
    "print('Confusion matrix dt \\n', confusion_matrix(y_test,y_pred_dt))\n",
    "print('Accuracy dt', accuracy_score(y_test,y_pred_dt))\n",
    "print('Recall dt', recall_score(y_test,y_pred_dt))\n",
    "print('Precision dt', precision_score(y_test,y_pred_dt))"
   ]
  },
  {
   "cell_type": "code",
   "execution_count": 59,
   "id": "b1f749d1",
   "metadata": {
    "scrolled": true
   },
   "outputs": [
    {
     "name": "stdout",
     "output_type": "stream",
     "text": [
      "              precision    recall  f1-score   support\n",
      "\n",
      "           0       0.74      0.78      0.76       277\n",
      "           1       0.86      0.83      0.85       449\n",
      "\n",
      "    accuracy                           0.81       726\n",
      "   macro avg       0.80      0.80      0.80       726\n",
      "weighted avg       0.81      0.81      0.81       726\n",
      "\n"
     ]
    }
   ],
   "source": [
    "print(classification_report(y_test,y_pred_dt))"
   ]
  },
  {
   "cell_type": "markdown",
   "id": "cd1b7abf",
   "metadata": {},
   "source": [
    "***Random Forest***"
   ]
  },
  {
   "cell_type": "code",
   "execution_count": 60,
   "id": "b182fc52",
   "metadata": {},
   "outputs": [
    {
     "name": "stdout",
     "output_type": "stream",
     "text": [
      "{'n_estimators': 500}\n"
     ]
    }
   ],
   "source": [
    "from sklearn.ensemble import RandomForestClassifier\n",
    "param_grid = {'n_estimators': [100, 200, 300, 400, 500]}\n",
    "rf = RandomForestClassifier(random_state=42)\n",
    "grid_search = GridSearchCV(rf, param_grid=param_grid, cv=5, scoring='accuracy')\n",
    "grid_search.fit(X_train, y_train)\n",
    "print(grid_search.best_params_)"
   ]
  },
  {
   "cell_type": "code",
   "execution_count": 61,
   "id": "3d8fd3a4",
   "metadata": {},
   "outputs": [],
   "source": [
    "rf = RandomForestClassifier(n_estimators=300)"
   ]
  },
  {
   "cell_type": "code",
   "execution_count": 62,
   "id": "14e681e6",
   "metadata": {},
   "outputs": [
    {
     "data": {
      "text/html": [
       "<style>#sk-container-id-3 {color: black;background-color: white;}#sk-container-id-3 pre{padding: 0;}#sk-container-id-3 div.sk-toggleable {background-color: white;}#sk-container-id-3 label.sk-toggleable__label {cursor: pointer;display: block;width: 100%;margin-bottom: 0;padding: 0.3em;box-sizing: border-box;text-align: center;}#sk-container-id-3 label.sk-toggleable__label-arrow:before {content: \"▸\";float: left;margin-right: 0.25em;color: #696969;}#sk-container-id-3 label.sk-toggleable__label-arrow:hover:before {color: black;}#sk-container-id-3 div.sk-estimator:hover label.sk-toggleable__label-arrow:before {color: black;}#sk-container-id-3 div.sk-toggleable__content {max-height: 0;max-width: 0;overflow: hidden;text-align: left;background-color: #f0f8ff;}#sk-container-id-3 div.sk-toggleable__content pre {margin: 0.2em;color: black;border-radius: 0.25em;background-color: #f0f8ff;}#sk-container-id-3 input.sk-toggleable__control:checked~div.sk-toggleable__content {max-height: 200px;max-width: 100%;overflow: auto;}#sk-container-id-3 input.sk-toggleable__control:checked~label.sk-toggleable__label-arrow:before {content: \"▾\";}#sk-container-id-3 div.sk-estimator input.sk-toggleable__control:checked~label.sk-toggleable__label {background-color: #d4ebff;}#sk-container-id-3 div.sk-label input.sk-toggleable__control:checked~label.sk-toggleable__label {background-color: #d4ebff;}#sk-container-id-3 input.sk-hidden--visually {border: 0;clip: rect(1px 1px 1px 1px);clip: rect(1px, 1px, 1px, 1px);height: 1px;margin: -1px;overflow: hidden;padding: 0;position: absolute;width: 1px;}#sk-container-id-3 div.sk-estimator {font-family: monospace;background-color: #f0f8ff;border: 1px dotted black;border-radius: 0.25em;box-sizing: border-box;margin-bottom: 0.5em;}#sk-container-id-3 div.sk-estimator:hover {background-color: #d4ebff;}#sk-container-id-3 div.sk-parallel-item::after {content: \"\";width: 100%;border-bottom: 1px solid gray;flex-grow: 1;}#sk-container-id-3 div.sk-label:hover label.sk-toggleable__label {background-color: #d4ebff;}#sk-container-id-3 div.sk-serial::before {content: \"\";position: absolute;border-left: 1px solid gray;box-sizing: border-box;top: 0;bottom: 0;left: 50%;z-index: 0;}#sk-container-id-3 div.sk-serial {display: flex;flex-direction: column;align-items: center;background-color: white;padding-right: 0.2em;padding-left: 0.2em;position: relative;}#sk-container-id-3 div.sk-item {position: relative;z-index: 1;}#sk-container-id-3 div.sk-parallel {display: flex;align-items: stretch;justify-content: center;background-color: white;position: relative;}#sk-container-id-3 div.sk-item::before, #sk-container-id-3 div.sk-parallel-item::before {content: \"\";position: absolute;border-left: 1px solid gray;box-sizing: border-box;top: 0;bottom: 0;left: 50%;z-index: -1;}#sk-container-id-3 div.sk-parallel-item {display: flex;flex-direction: column;z-index: 1;position: relative;background-color: white;}#sk-container-id-3 div.sk-parallel-item:first-child::after {align-self: flex-end;width: 50%;}#sk-container-id-3 div.sk-parallel-item:last-child::after {align-self: flex-start;width: 50%;}#sk-container-id-3 div.sk-parallel-item:only-child::after {width: 0;}#sk-container-id-3 div.sk-dashed-wrapped {border: 1px dashed gray;margin: 0 0.4em 0.5em 0.4em;box-sizing: border-box;padding-bottom: 0.4em;background-color: white;}#sk-container-id-3 div.sk-label label {font-family: monospace;font-weight: bold;display: inline-block;line-height: 1.2em;}#sk-container-id-3 div.sk-label-container {text-align: center;}#sk-container-id-3 div.sk-container {/* jupyter's `normalize.less` sets `[hidden] { display: none; }` but bootstrap.min.css set `[hidden] { display: none !important; }` so we also need the `!important` here to be able to override the default hidden behavior on the sphinx rendered scikit-learn.org. See: https://github.com/scikit-learn/scikit-learn/issues/21755 */display: inline-block !important;position: relative;}#sk-container-id-3 div.sk-text-repr-fallback {display: none;}</style><div id=\"sk-container-id-3\" class=\"sk-top-container\"><div class=\"sk-text-repr-fallback\"><pre>RandomForestClassifier(n_estimators=300)</pre><b>In a Jupyter environment, please rerun this cell to show the HTML representation or trust the notebook. <br />On GitHub, the HTML representation is unable to render, please try loading this page with nbviewer.org.</b></div><div class=\"sk-container\" hidden><div class=\"sk-item\"><div class=\"sk-estimator sk-toggleable\"><input class=\"sk-toggleable__control sk-hidden--visually\" id=\"sk-estimator-id-5\" type=\"checkbox\" checked><label for=\"sk-estimator-id-5\" class=\"sk-toggleable__label sk-toggleable__label-arrow\">RandomForestClassifier</label><div class=\"sk-toggleable__content\"><pre>RandomForestClassifier(n_estimators=300)</pre></div></div></div></div></div>"
      ],
      "text/plain": [
       "RandomForestClassifier(n_estimators=300)"
      ]
     },
     "execution_count": 62,
     "metadata": {},
     "output_type": "execute_result"
    }
   ],
   "source": [
    "rf.fit(X_train,y_train)"
   ]
  },
  {
   "cell_type": "code",
   "execution_count": 63,
   "id": "2c102583",
   "metadata": {},
   "outputs": [],
   "source": [
    "y_pred_rf = rf.predict(X_test)"
   ]
  },
  {
   "cell_type": "code",
   "execution_count": 64,
   "id": "0bafdb41",
   "metadata": {},
   "outputs": [
    {
     "name": "stdout",
     "output_type": "stream",
     "text": [
      "Confusion matrix rf \n",
      " [[219  58]\n",
      " [ 31 418]]\n",
      "Accuracy rf 0.8774104683195593\n",
      "Recall rf 0.9309576837416481\n",
      "Precision rf 0.8781512605042017\n"
     ]
    }
   ],
   "source": [
    "print('Confusion matrix rf \\n', confusion_matrix(y_test,y_pred_rf))\n",
    "print('Accuracy rf', accuracy_score(y_test,y_pred_rf))\n",
    "print('Recall rf', recall_score(y_test,y_pred_rf))\n",
    "print('Precision rf', precision_score(y_test,y_pred_rf))"
   ]
  },
  {
   "cell_type": "code",
   "execution_count": 65,
   "id": "d7293b04",
   "metadata": {},
   "outputs": [
    {
     "name": "stdout",
     "output_type": "stream",
     "text": [
      "              precision    recall  f1-score   support\n",
      "\n",
      "           0       0.88      0.79      0.83       277\n",
      "           1       0.88      0.93      0.90       449\n",
      "\n",
      "    accuracy                           0.88       726\n",
      "   macro avg       0.88      0.86      0.87       726\n",
      "weighted avg       0.88      0.88      0.88       726\n",
      "\n"
     ]
    }
   ],
   "source": [
    "print(classification_report(y_test,y_pred_rf))"
   ]
  },
  {
   "cell_type": "markdown",
   "id": "bb1db3eb",
   "metadata": {},
   "source": [
    "***Features selection***"
   ]
  },
  {
   "cell_type": "markdown",
   "id": "8931bdc2",
   "metadata": {},
   "source": [
    "***support vecotr machines***"
   ]
  },
  {
   "cell_type": "code",
   "execution_count": 66,
   "id": "f592e269",
   "metadata": {},
   "outputs": [
    {
     "data": {
      "text/html": [
       "<style>#sk-container-id-4 {color: black;background-color: white;}#sk-container-id-4 pre{padding: 0;}#sk-container-id-4 div.sk-toggleable {background-color: white;}#sk-container-id-4 label.sk-toggleable__label {cursor: pointer;display: block;width: 100%;margin-bottom: 0;padding: 0.3em;box-sizing: border-box;text-align: center;}#sk-container-id-4 label.sk-toggleable__label-arrow:before {content: \"▸\";float: left;margin-right: 0.25em;color: #696969;}#sk-container-id-4 label.sk-toggleable__label-arrow:hover:before {color: black;}#sk-container-id-4 div.sk-estimator:hover label.sk-toggleable__label-arrow:before {color: black;}#sk-container-id-4 div.sk-toggleable__content {max-height: 0;max-width: 0;overflow: hidden;text-align: left;background-color: #f0f8ff;}#sk-container-id-4 div.sk-toggleable__content pre {margin: 0.2em;color: black;border-radius: 0.25em;background-color: #f0f8ff;}#sk-container-id-4 input.sk-toggleable__control:checked~div.sk-toggleable__content {max-height: 200px;max-width: 100%;overflow: auto;}#sk-container-id-4 input.sk-toggleable__control:checked~label.sk-toggleable__label-arrow:before {content: \"▾\";}#sk-container-id-4 div.sk-estimator input.sk-toggleable__control:checked~label.sk-toggleable__label {background-color: #d4ebff;}#sk-container-id-4 div.sk-label input.sk-toggleable__control:checked~label.sk-toggleable__label {background-color: #d4ebff;}#sk-container-id-4 input.sk-hidden--visually {border: 0;clip: rect(1px 1px 1px 1px);clip: rect(1px, 1px, 1px, 1px);height: 1px;margin: -1px;overflow: hidden;padding: 0;position: absolute;width: 1px;}#sk-container-id-4 div.sk-estimator {font-family: monospace;background-color: #f0f8ff;border: 1px dotted black;border-radius: 0.25em;box-sizing: border-box;margin-bottom: 0.5em;}#sk-container-id-4 div.sk-estimator:hover {background-color: #d4ebff;}#sk-container-id-4 div.sk-parallel-item::after {content: \"\";width: 100%;border-bottom: 1px solid gray;flex-grow: 1;}#sk-container-id-4 div.sk-label:hover label.sk-toggleable__label {background-color: #d4ebff;}#sk-container-id-4 div.sk-serial::before {content: \"\";position: absolute;border-left: 1px solid gray;box-sizing: border-box;top: 0;bottom: 0;left: 50%;z-index: 0;}#sk-container-id-4 div.sk-serial {display: flex;flex-direction: column;align-items: center;background-color: white;padding-right: 0.2em;padding-left: 0.2em;position: relative;}#sk-container-id-4 div.sk-item {position: relative;z-index: 1;}#sk-container-id-4 div.sk-parallel {display: flex;align-items: stretch;justify-content: center;background-color: white;position: relative;}#sk-container-id-4 div.sk-item::before, #sk-container-id-4 div.sk-parallel-item::before {content: \"\";position: absolute;border-left: 1px solid gray;box-sizing: border-box;top: 0;bottom: 0;left: 50%;z-index: -1;}#sk-container-id-4 div.sk-parallel-item {display: flex;flex-direction: column;z-index: 1;position: relative;background-color: white;}#sk-container-id-4 div.sk-parallel-item:first-child::after {align-self: flex-end;width: 50%;}#sk-container-id-4 div.sk-parallel-item:last-child::after {align-self: flex-start;width: 50%;}#sk-container-id-4 div.sk-parallel-item:only-child::after {width: 0;}#sk-container-id-4 div.sk-dashed-wrapped {border: 1px dashed gray;margin: 0 0.4em 0.5em 0.4em;box-sizing: border-box;padding-bottom: 0.4em;background-color: white;}#sk-container-id-4 div.sk-label label {font-family: monospace;font-weight: bold;display: inline-block;line-height: 1.2em;}#sk-container-id-4 div.sk-label-container {text-align: center;}#sk-container-id-4 div.sk-container {/* jupyter's `normalize.less` sets `[hidden] { display: none; }` but bootstrap.min.css set `[hidden] { display: none !important; }` so we also need the `!important` here to be able to override the default hidden behavior on the sphinx rendered scikit-learn.org. See: https://github.com/scikit-learn/scikit-learn/issues/21755 */display: inline-block !important;position: relative;}#sk-container-id-4 div.sk-text-repr-fallback {display: none;}</style><div id=\"sk-container-id-4\" class=\"sk-top-container\"><div class=\"sk-text-repr-fallback\"><pre>SVC(kernel=&#x27;linear&#x27;)</pre><b>In a Jupyter environment, please rerun this cell to show the HTML representation or trust the notebook. <br />On GitHub, the HTML representation is unable to render, please try loading this page with nbviewer.org.</b></div><div class=\"sk-container\" hidden><div class=\"sk-item\"><div class=\"sk-estimator sk-toggleable\"><input class=\"sk-toggleable__control sk-hidden--visually\" id=\"sk-estimator-id-6\" type=\"checkbox\" checked><label for=\"sk-estimator-id-6\" class=\"sk-toggleable__label sk-toggleable__label-arrow\">SVC</label><div class=\"sk-toggleable__content\"><pre>SVC(kernel=&#x27;linear&#x27;)</pre></div></div></div></div></div>"
      ],
      "text/plain": [
       "SVC(kernel='linear')"
      ]
     },
     "execution_count": 66,
     "metadata": {},
     "output_type": "execute_result"
    }
   ],
   "source": [
    "from sklearn.svm import SVC\n",
    "linear_SVM = SVC(kernel='linear')\n",
    "linear_SVM.fit(X_train_sc,y_train)"
   ]
  },
  {
   "cell_type": "code",
   "execution_count": 67,
   "id": "c0dff9a3",
   "metadata": {},
   "outputs": [
    {
     "name": "stdout",
     "output_type": "stream",
     "text": [
      "[[214  63]\n",
      " [ 15 434]]\n",
      "Accuracy linear SVM 0.893\n",
      "Precision linear SVM 0.873\n",
      "Recall linear SVM 0.967\n"
     ]
    }
   ],
   "source": [
    "y_predictSVM_l = linear_SVM.predict(X_test_sc)\n",
    "print(confusion_matrix(y_test,y_predictSVM_l))\n",
    "print('Accuracy linear SVM {0:.3f}'.format(accuracy_score(y_test,y_predictSVM_l)))\n",
    "print('Precision linear SVM {0:.3f}'.format(precision_score(y_test,y_predictSVM_l)))\n",
    "print('Recall linear SVM {0:.3f}'.format(recall_score(y_test,y_predictSVM_l)))"
   ]
  },
  {
   "cell_type": "code",
   "execution_count": 68,
   "id": "590e4fb9",
   "metadata": {},
   "outputs": [
    {
     "name": "stdout",
     "output_type": "stream",
     "text": [
      "              precision    recall  f1-score   support\n",
      "\n",
      "           0       0.93      0.77      0.85       277\n",
      "           1       0.87      0.97      0.92       449\n",
      "\n",
      "    accuracy                           0.89       726\n",
      "   macro avg       0.90      0.87      0.88       726\n",
      "weighted avg       0.90      0.89      0.89       726\n",
      "\n"
     ]
    }
   ],
   "source": [
    "print(classification_report(y_test,y_predictSVM_l))"
   ]
  },
  {
   "cell_type": "code",
   "execution_count": 69,
   "id": "5e0ac986",
   "metadata": {},
   "outputs": [
    {
     "data": {
      "text/html": [
       "<style>#sk-container-id-5 {color: black;background-color: white;}#sk-container-id-5 pre{padding: 0;}#sk-container-id-5 div.sk-toggleable {background-color: white;}#sk-container-id-5 label.sk-toggleable__label {cursor: pointer;display: block;width: 100%;margin-bottom: 0;padding: 0.3em;box-sizing: border-box;text-align: center;}#sk-container-id-5 label.sk-toggleable__label-arrow:before {content: \"▸\";float: left;margin-right: 0.25em;color: #696969;}#sk-container-id-5 label.sk-toggleable__label-arrow:hover:before {color: black;}#sk-container-id-5 div.sk-estimator:hover label.sk-toggleable__label-arrow:before {color: black;}#sk-container-id-5 div.sk-toggleable__content {max-height: 0;max-width: 0;overflow: hidden;text-align: left;background-color: #f0f8ff;}#sk-container-id-5 div.sk-toggleable__content pre {margin: 0.2em;color: black;border-radius: 0.25em;background-color: #f0f8ff;}#sk-container-id-5 input.sk-toggleable__control:checked~div.sk-toggleable__content {max-height: 200px;max-width: 100%;overflow: auto;}#sk-container-id-5 input.sk-toggleable__control:checked~label.sk-toggleable__label-arrow:before {content: \"▾\";}#sk-container-id-5 div.sk-estimator input.sk-toggleable__control:checked~label.sk-toggleable__label {background-color: #d4ebff;}#sk-container-id-5 div.sk-label input.sk-toggleable__control:checked~label.sk-toggleable__label {background-color: #d4ebff;}#sk-container-id-5 input.sk-hidden--visually {border: 0;clip: rect(1px 1px 1px 1px);clip: rect(1px, 1px, 1px, 1px);height: 1px;margin: -1px;overflow: hidden;padding: 0;position: absolute;width: 1px;}#sk-container-id-5 div.sk-estimator {font-family: monospace;background-color: #f0f8ff;border: 1px dotted black;border-radius: 0.25em;box-sizing: border-box;margin-bottom: 0.5em;}#sk-container-id-5 div.sk-estimator:hover {background-color: #d4ebff;}#sk-container-id-5 div.sk-parallel-item::after {content: \"\";width: 100%;border-bottom: 1px solid gray;flex-grow: 1;}#sk-container-id-5 div.sk-label:hover label.sk-toggleable__label {background-color: #d4ebff;}#sk-container-id-5 div.sk-serial::before {content: \"\";position: absolute;border-left: 1px solid gray;box-sizing: border-box;top: 0;bottom: 0;left: 50%;z-index: 0;}#sk-container-id-5 div.sk-serial {display: flex;flex-direction: column;align-items: center;background-color: white;padding-right: 0.2em;padding-left: 0.2em;position: relative;}#sk-container-id-5 div.sk-item {position: relative;z-index: 1;}#sk-container-id-5 div.sk-parallel {display: flex;align-items: stretch;justify-content: center;background-color: white;position: relative;}#sk-container-id-5 div.sk-item::before, #sk-container-id-5 div.sk-parallel-item::before {content: \"\";position: absolute;border-left: 1px solid gray;box-sizing: border-box;top: 0;bottom: 0;left: 50%;z-index: -1;}#sk-container-id-5 div.sk-parallel-item {display: flex;flex-direction: column;z-index: 1;position: relative;background-color: white;}#sk-container-id-5 div.sk-parallel-item:first-child::after {align-self: flex-end;width: 50%;}#sk-container-id-5 div.sk-parallel-item:last-child::after {align-self: flex-start;width: 50%;}#sk-container-id-5 div.sk-parallel-item:only-child::after {width: 0;}#sk-container-id-5 div.sk-dashed-wrapped {border: 1px dashed gray;margin: 0 0.4em 0.5em 0.4em;box-sizing: border-box;padding-bottom: 0.4em;background-color: white;}#sk-container-id-5 div.sk-label label {font-family: monospace;font-weight: bold;display: inline-block;line-height: 1.2em;}#sk-container-id-5 div.sk-label-container {text-align: center;}#sk-container-id-5 div.sk-container {/* jupyter's `normalize.less` sets `[hidden] { display: none; }` but bootstrap.min.css set `[hidden] { display: none !important; }` so we also need the `!important` here to be able to override the default hidden behavior on the sphinx rendered scikit-learn.org. See: https://github.com/scikit-learn/scikit-learn/issues/21755 */display: inline-block !important;position: relative;}#sk-container-id-5 div.sk-text-repr-fallback {display: none;}</style><div id=\"sk-container-id-5\" class=\"sk-top-container\"><div class=\"sk-text-repr-fallback\"><pre>SVC()</pre><b>In a Jupyter environment, please rerun this cell to show the HTML representation or trust the notebook. <br />On GitHub, the HTML representation is unable to render, please try loading this page with nbviewer.org.</b></div><div class=\"sk-container\" hidden><div class=\"sk-item\"><div class=\"sk-estimator sk-toggleable\"><input class=\"sk-toggleable__control sk-hidden--visually\" id=\"sk-estimator-id-7\" type=\"checkbox\" checked><label for=\"sk-estimator-id-7\" class=\"sk-toggleable__label sk-toggleable__label-arrow\">SVC</label><div class=\"sk-toggleable__content\"><pre>SVC()</pre></div></div></div></div></div>"
      ],
      "text/plain": [
       "SVC()"
      ]
     },
     "execution_count": 69,
     "metadata": {},
     "output_type": "execute_result"
    }
   ],
   "source": [
    "kernel_SVM = SVC(kernel='rbf')\n",
    "kernel_SVM.fit(X_train_sc,y_train)"
   ]
  },
  {
   "cell_type": "code",
   "execution_count": 70,
   "id": "64c82227",
   "metadata": {},
   "outputs": [
    {
     "name": "stdout",
     "output_type": "stream",
     "text": [
      "[[214  63]\n",
      " [ 19 430]]\n",
      "Accuracy rbf SVM 0.887\n",
      "Precision rbf SVM 0.872\n",
      "Recall rbf SVM 0.958\n"
     ]
    }
   ],
   "source": [
    "y_predictSVM_k = kernel_SVM.predict(X_test_sc)\n",
    "print(confusion_matrix(y_test,y_predictSVM_k))\n",
    "print('Accuracy rbf SVM {0:.3f}'.format(accuracy_score(y_test,y_predictSVM_k)))\n",
    "print('Precision rbf SVM {0:.3f}'.format(precision_score(y_test,y_predictSVM_k)))\n",
    "print('Recall rbf SVM {0:.3f}'.format(recall_score(y_test,y_predictSVM_k)))"
   ]
  },
  {
   "cell_type": "code",
   "execution_count": 71,
   "id": "f5c15512",
   "metadata": {},
   "outputs": [
    {
     "name": "stdout",
     "output_type": "stream",
     "text": [
      "              precision    recall  f1-score   support\n",
      "\n",
      "           0       0.92      0.77      0.84       277\n",
      "           1       0.87      0.96      0.91       449\n",
      "\n",
      "    accuracy                           0.89       726\n",
      "   macro avg       0.90      0.87      0.88       726\n",
      "weighted avg       0.89      0.89      0.88       726\n",
      "\n"
     ]
    }
   ],
   "source": [
    " print(classification_report(y_test,y_predictSVM_k))"
   ]
  },
  {
   "cell_type": "markdown",
   "id": "201fb122",
   "metadata": {},
   "source": [
    "***Logistic regression***"
   ]
  },
  {
   "cell_type": "code",
   "execution_count": 72,
   "id": "03be82cc",
   "metadata": {},
   "outputs": [
    {
     "data": {
      "text/html": [
       "<style>#sk-container-id-6 {color: black;background-color: white;}#sk-container-id-6 pre{padding: 0;}#sk-container-id-6 div.sk-toggleable {background-color: white;}#sk-container-id-6 label.sk-toggleable__label {cursor: pointer;display: block;width: 100%;margin-bottom: 0;padding: 0.3em;box-sizing: border-box;text-align: center;}#sk-container-id-6 label.sk-toggleable__label-arrow:before {content: \"▸\";float: left;margin-right: 0.25em;color: #696969;}#sk-container-id-6 label.sk-toggleable__label-arrow:hover:before {color: black;}#sk-container-id-6 div.sk-estimator:hover label.sk-toggleable__label-arrow:before {color: black;}#sk-container-id-6 div.sk-toggleable__content {max-height: 0;max-width: 0;overflow: hidden;text-align: left;background-color: #f0f8ff;}#sk-container-id-6 div.sk-toggleable__content pre {margin: 0.2em;color: black;border-radius: 0.25em;background-color: #f0f8ff;}#sk-container-id-6 input.sk-toggleable__control:checked~div.sk-toggleable__content {max-height: 200px;max-width: 100%;overflow: auto;}#sk-container-id-6 input.sk-toggleable__control:checked~label.sk-toggleable__label-arrow:before {content: \"▾\";}#sk-container-id-6 div.sk-estimator input.sk-toggleable__control:checked~label.sk-toggleable__label {background-color: #d4ebff;}#sk-container-id-6 div.sk-label input.sk-toggleable__control:checked~label.sk-toggleable__label {background-color: #d4ebff;}#sk-container-id-6 input.sk-hidden--visually {border: 0;clip: rect(1px 1px 1px 1px);clip: rect(1px, 1px, 1px, 1px);height: 1px;margin: -1px;overflow: hidden;padding: 0;position: absolute;width: 1px;}#sk-container-id-6 div.sk-estimator {font-family: monospace;background-color: #f0f8ff;border: 1px dotted black;border-radius: 0.25em;box-sizing: border-box;margin-bottom: 0.5em;}#sk-container-id-6 div.sk-estimator:hover {background-color: #d4ebff;}#sk-container-id-6 div.sk-parallel-item::after {content: \"\";width: 100%;border-bottom: 1px solid gray;flex-grow: 1;}#sk-container-id-6 div.sk-label:hover label.sk-toggleable__label {background-color: #d4ebff;}#sk-container-id-6 div.sk-serial::before {content: \"\";position: absolute;border-left: 1px solid gray;box-sizing: border-box;top: 0;bottom: 0;left: 50%;z-index: 0;}#sk-container-id-6 div.sk-serial {display: flex;flex-direction: column;align-items: center;background-color: white;padding-right: 0.2em;padding-left: 0.2em;position: relative;}#sk-container-id-6 div.sk-item {position: relative;z-index: 1;}#sk-container-id-6 div.sk-parallel {display: flex;align-items: stretch;justify-content: center;background-color: white;position: relative;}#sk-container-id-6 div.sk-item::before, #sk-container-id-6 div.sk-parallel-item::before {content: \"\";position: absolute;border-left: 1px solid gray;box-sizing: border-box;top: 0;bottom: 0;left: 50%;z-index: -1;}#sk-container-id-6 div.sk-parallel-item {display: flex;flex-direction: column;z-index: 1;position: relative;background-color: white;}#sk-container-id-6 div.sk-parallel-item:first-child::after {align-self: flex-end;width: 50%;}#sk-container-id-6 div.sk-parallel-item:last-child::after {align-self: flex-start;width: 50%;}#sk-container-id-6 div.sk-parallel-item:only-child::after {width: 0;}#sk-container-id-6 div.sk-dashed-wrapped {border: 1px dashed gray;margin: 0 0.4em 0.5em 0.4em;box-sizing: border-box;padding-bottom: 0.4em;background-color: white;}#sk-container-id-6 div.sk-label label {font-family: monospace;font-weight: bold;display: inline-block;line-height: 1.2em;}#sk-container-id-6 div.sk-label-container {text-align: center;}#sk-container-id-6 div.sk-container {/* jupyter's `normalize.less` sets `[hidden] { display: none; }` but bootstrap.min.css set `[hidden] { display: none !important; }` so we also need the `!important` here to be able to override the default hidden behavior on the sphinx rendered scikit-learn.org. See: https://github.com/scikit-learn/scikit-learn/issues/21755 */display: inline-block !important;position: relative;}#sk-container-id-6 div.sk-text-repr-fallback {display: none;}</style><div id=\"sk-container-id-6\" class=\"sk-top-container\"><div class=\"sk-text-repr-fallback\"><pre>LogisticRegression()</pre><b>In a Jupyter environment, please rerun this cell to show the HTML representation or trust the notebook. <br />On GitHub, the HTML representation is unable to render, please try loading this page with nbviewer.org.</b></div><div class=\"sk-container\" hidden><div class=\"sk-item\"><div class=\"sk-estimator sk-toggleable\"><input class=\"sk-toggleable__control sk-hidden--visually\" id=\"sk-estimator-id-8\" type=\"checkbox\" checked><label for=\"sk-estimator-id-8\" class=\"sk-toggleable__label sk-toggleable__label-arrow\">LogisticRegression</label><div class=\"sk-toggleable__content\"><pre>LogisticRegression()</pre></div></div></div></div></div>"
      ],
      "text/plain": [
       "LogisticRegression()"
      ]
     },
     "execution_count": 72,
     "metadata": {},
     "output_type": "execute_result"
    }
   ],
   "source": [
    "from sklearn.linear_model import LogisticRegression\n",
    "LR = LogisticRegression()\n",
    "LR.fit(X_train_sc,y_train)"
   ]
  },
  {
   "cell_type": "code",
   "execution_count": 73,
   "id": "5e11f8ab",
   "metadata": {},
   "outputs": [
    {
     "name": "stdout",
     "output_type": "stream",
     "text": [
      "[[224  53]\n",
      " [ 27 422]]\n",
      "Accuracy Logistic Regression 0.890\n",
      "Precision Logistic Regression 0.888\n",
      "Recall Logistic Regression 0.940\n"
     ]
    }
   ],
   "source": [
    "y_predictLR = LR.predict(X_test_sc)\n",
    "print(confusion_matrix(y_test,y_predictLR))\n",
    "print('Accuracy Logistic Regression {0:.3f}'.format(accuracy_score(y_test,y_predictLR)))\n",
    "print('Precision Logistic Regression {0:.3f}'.format(precision_score(y_test,y_predictLR)))\n",
    "print('Recall Logistic Regression {0:.3f}'.format(recall_score(y_test,y_predictLR)))\n"
   ]
  },
  {
   "cell_type": "markdown",
   "id": "a8743acb",
   "metadata": {},
   "source": [
    "***Summary***"
   ]
  },
  {
   "cell_type": "code",
   "execution_count": 74,
   "id": "977296f9",
   "metadata": {},
   "outputs": [
    {
     "name": "stdout",
     "output_type": "stream",
     "text": [
      "                    Accuracy Precision Recall F1-score\n",
      "KNN                     0.81       0.8   0.96     0.87\n",
      "Decision Tree          0.795     0.827  0.863    0.844\n",
      "Random Forest          0.859     0.855   0.94    0.896\n",
      "Linear SVM             0.856     0.856  0.933    0.893\n",
      "RBF SVM                0.859     0.848  0.951    0.896\n",
      "Logistic Regression     0.86     0.867  0.924    0.894\n"
     ]
    }
   ],
   "source": [
    "# Create a list of models\n",
    "models = ['KNN', 'Decision Tree', 'Random Forest', 'Linear SVM', 'RBF SVM', 'Logistic Regression']\n",
    "\n",
    "# Create a list of metrics\n",
    "metrics = ['Accuracy', 'Precision', 'Recall', 'F1-score']\n",
    "\n",
    "# Create an empty dataframe\n",
    "results_df = pd.DataFrame(index=models, columns=metrics)\n",
    "\n",
    "# Add the results for each model\n",
    "results_df.loc['KNN'] = [0.810, 0.800, 0.960, 0.870]\n",
    "results_df.loc['Decision Tree'] = [0.795, 0.827, 0.863, 0.844]\n",
    "results_df.loc['Random Forest'] = [0.859, 0.855, 0.940, 0.896]\n",
    "results_df.loc['Linear SVM'] = [0.856, 0.856, 0.933, 0.893]\n",
    "results_df.loc['RBF SVM'] = [0.859, 0.848, 0.951, 0.896]\n",
    "results_df.loc['Logistic Regression'] = [0.860, 0.867, 0.924, 0.894]\n",
    "\n",
    "# Print the results\n",
    "print(results_df)\n"
   ]
  },
  {
   "cell_type": "markdown",
   "id": "db15067c",
   "metadata": {},
   "source": [
    "***Receiver Operating Characteristic (ROC) Curve***"
   ]
  },
  {
   "cell_type": "code",
   "execution_count": 75,
   "id": "24a9e50b",
   "metadata": {},
   "outputs": [
    {
     "data": {
      "text/plain": [
       "<matplotlib.legend.Legend at 0x1d7806aed00>"
      ]
     },
     "execution_count": 75,
     "metadata": {},
     "output_type": "execute_result"
    },
    {
     "data": {
      "image/png": "[encoded data removed]",
      "text/plain": [
       "<Figure size 640x480 with 1 Axes>"
      ]
     },
     "metadata": {},
     "output_type": "display_data"
    }
   ],
   "source": [
    "from sklearn import metrics\n",
    "fpr,tpr,thr = metrics.roc_curve(y_test,y_pred_knn_o)\n",
    "fpr2,tpr2,thr2 = metrics.roc_curve(y_test,y_predictLR)\n",
    "fpr3,tpr3,thr3 = metrics.roc_curve(y_test,y_pred_dt)\n",
    "fpr4,tpr4,thr4 = metrics.roc_curve(y_test,y_predictSVM_l)\n",
    "fpr5,tpr5,thr5 = metrics.roc_curve(y_test,y_predictSVM_k)\n",
    "fpr6,tpr6,thr6 = metrics.roc_curve(y_test,y_pred_rf)\n",
    "auc = metrics.auc(fpr,tpr)\n",
    "auc2 = metrics.auc(fpr2,tpr2)\n",
    "auc3 = metrics.auc(fpr3,tpr3)\n",
    "auc4 = metrics.auc(fpr4,tpr4)\n",
    "auc5 = metrics.auc(fpr5,tpr5)\n",
    "auc6 = metrics.auc(fpr6,tpr6)\n",
    "plt.plot(fpr,tpr,'-',lw=2,label='gamma=0.01,AUC KNN_O =%.2f'%auc)\n",
    "plt.plot(fpr2,tpr2,'-',lw=2,label='gamma=0.01,AUC LR=%.2f'%auc2)\n",
    "plt.plot(fpr3,tpr3,'-',lw=2,label='gamma=0.01,AUC DT=%.2f'%auc3)\n",
    "plt.plot(fpr4,tpr4,'-',lw=2,label='gamma=0.01,AUC SVM_l=%.2f'%auc4)\n",
    "plt.plot(fpr5,tpr5,'-',lw=2,label='gamma=0.01,AUC SVM_k=%.2f'%auc5)\n",
    "plt.plot(fpr6,tpr6,'-',lw=2,label='gamma=0.01,AUC RF=%.2f'%auc6)\n",
    "plt.plot([0, 1], [0, 1], lw=2, linestyle='--')\n",
    "plt.xlabel('False Positive Rate')\n",
    "plt.ylabel('True Positive Rate')\n",
    "plt.title('KNN, LR, DT, SVM & RF ROC curves')\n",
    "plt.legend(loc='lower right')\n",
    "\n"
   ]
  },
  {
   "cell_type": "markdown",
   "id": "f8592cba",
   "metadata": {},
   "source": [
    "***Logistic regression is the best algorithm***"
   ]
  },
  {
   "cell_type": "code",
   "execution_count": 76,
   "id": "06213113",
   "metadata": {},
   "outputs": [
    {
     "data": {
      "text/plain": [
       "Text(0.5, 1.0, 'Variable Importance')"
      ]
     },
     "execution_count": 76,
     "metadata": {},
     "output_type": "execute_result"
    },
    {
     "data": {
      "image/png": "[encoded data removed]",
      "text/plain": [
       "<Figure size 640x480 with 1 Axes>"
      ]
     },
     "metadata": {},
     "output_type": "display_data"
    }
   ],
   "source": [
    "importances = rf.feature_importances_\n",
    "features_arr = X.columns.values\n",
    "sorted_idx = importances.argsort()\n",
    "\n",
    "padding = np.arange(X_train_sc.shape[1])\n",
    "plt.barh(padding, importances[sorted_idx], align='center')\n",
    "plt.yticks(padding, features_arr[sorted_idx])\n",
    "plt.xlabel('Relative Importance')\n",
    "plt.title('Variable Importance')\n"
   ]
  },
  {
   "cell_type": "markdown",
   "id": "20fbb505",
   "metadata": {},
   "source": [
    "### . Deploiement ###"
   ]
  },
  {
   "cell_type": "code",
   "execution_count": 77,
   "id": "fddd5d0e",
   "metadata": {
    "scrolled": true
   },
   "outputs": [
    {
     "data": {
      "text/plain": [
       "Index(['Marital status', 'Daytime/evening attendance', 'Nationality',\n",
       "       'Previous qualification', 'Mother's qualification',\n",
       "       'Father's qualification', 'Gender', 'Age at enrollment',\n",
       "       'enrollement_year', 'Number of semesters',\n",
       "       'Curricular units 1st sem (enrolled)',\n",
       "       'Curricular units 1st sem (approved)',\n",
       "       'Curricular units 1st sem (grade)',\n",
       "       'Curricular units 2nd sem (enrolled)',\n",
       "       'Curricular units 2nd sem (approved)',\n",
       "       'Curricular units 2nd sem (grade)', 'Unemployment rate',\n",
       "       'Inflation rate', 'GDP', 'BinaryTarget'],\n",
       "      dtype='object')"
      ]
     },
     "execution_count": 77,
     "metadata": {},
     "output_type": "execute_result"
    }
   ],
   "source": [
    "df_new.columns"
   ]
  },
  {
   "cell_type": "code",
   "execution_count": 78,
   "id": "dbed4d8c",
   "metadata": {},
   "outputs": [],
   "source": [
    "df_new = df_new.drop(['Gender', 'Number of semesters', 'enrollement_year', 'Inflation rate', 'GDP', 'Unemployment rate','Daytime/evening attendance','Unemployment rate','Inflation rate','GDP','Curricular units 1st sem (grade)','Curricular units 2nd sem (grade)'], axis=1)"
   ]
  },
  {
   "cell_type": "code",
   "execution_count": 79,
   "id": "a8a3b803",
   "metadata": {},
   "outputs": [
    {
     "data": {
      "text/plain": [
       "Index(['Marital status', 'Nationality', 'Previous qualification',\n",
       "       'Mother's qualification', 'Father's qualification', 'Age at enrollment',\n",
       "       'Curricular units 1st sem (enrolled)',\n",
       "       'Curricular units 1st sem (approved)',\n",
       "       'Curricular units 2nd sem (enrolled)',\n",
       "       'Curricular units 2nd sem (approved)', 'BinaryTarget'],\n",
       "      dtype='object')"
      ]
     },
     "execution_count": 79,
     "metadata": {},
     "output_type": "execute_result"
    }
   ],
   "source": [
    "df_new.columns"
   ]
  },
  {
   "cell_type": "code",
   "execution_count": 80,
   "id": "aca88ec8",
   "metadata": {},
   "outputs": [
    {
     "name": "stdout",
     "output_type": "stream",
     "text": [
      "Training set shape: (2904, 10)\n",
      "Testing set shape: (726, 10)\n"
     ]
    }
   ],
   "source": [
    "X = df_new.drop('BinaryTarget', axis=1)  # Features (all columns except the target)\n",
    "y = df_new['BinaryTarget']  # Target variable\n",
    "X_train, X_test, y_train, y_test = train_test_split(X, y, test_size=0.2, random_state=42)\n",
    "# Verify the shape of the split datasets\n",
    "print(\"Training set shape:\", X_train.shape)\n",
    "print(\"Testing set shape:\", X_test.shape)"
   ]
  },
  {
   "cell_type": "code",
   "execution_count": 81,
   "id": "b70fdbba",
   "metadata": {},
   "outputs": [],
   "source": [
    "scaler = StandardScaler()"
   ]
  },
  {
   "cell_type": "code",
   "execution_count": 82,
   "id": "b9496b39",
   "metadata": {},
   "outputs": [],
   "source": [
    "X_train_sc = scaler.fit_transform(X_train)\n",
    "X_test_sc = scaler.transform(X_test)"
   ]
  },
  {
   "cell_type": "code",
   "execution_count": 83,
   "id": "3e2fcae6",
   "metadata": {},
   "outputs": [
    {
     "data": {
      "text/plain": [
       "Marital status                          1\n",
       "Nationality                             1\n",
       "Previous qualification                  1\n",
       "Mother's qualification                  3\n",
       "Father's qualification                 28\n",
       "Age at enrollment                      19\n",
       "Curricular units 1st sem (enrolled)     5\n",
       "Curricular units 1st sem (approved)     0\n",
       "Curricular units 2nd sem (enrolled)     6\n",
       "Curricular units 2nd sem (approved)     0\n",
       "Name: 1116, dtype: int64"
      ]
     },
     "execution_count": 83,
     "metadata": {},
     "output_type": "execute_result"
    }
   ],
   "source": [
    "X_train.iloc[0, :]"
   ]
  },
  {
   "cell_type": "code",
   "execution_count": 84,
   "id": "9c095198",
   "metadata": {},
   "outputs": [
    {
     "name": "stdout",
     "output_type": "stream",
     "text": [
      "[[224  53]\n",
      " [ 27 422]]\n",
      "Accuracy Logistic Regression 0.890\n",
      "Precision Logistic Regression 0.877\n",
      "Recall Logistic Regression 0.955\n"
     ]
    }
   ],
   "source": [
    "LRR = LogisticRegression()\n",
    "LRR.fit(X_train_sc,y_train)\n",
    "\n",
    "y_predictLRR = LRR.predict(X_test_sc)\n",
    "print(confusion_matrix(y_test,y_predictLR))\n",
    "print('Accuracy Logistic Regression {0:.3f}'.format(accuracy_score(y_test,y_predictLRR)))\n",
    "print('Precision Logistic Regression {0:.3f}'.format(precision_score(y_test,y_predictLRR)))\n",
    "print('Recall Logistic Regression {0:.3f}'.format(recall_score(y_test,y_predictLRR)))"
   ]
  },
  {
   "cell_type": "code",
   "execution_count": 85,
   "id": "ccc2c60a",
   "metadata": {},
   "outputs": [],
   "source": [
    "import pickle"
   ]
  },
  {
   "cell_type": "code",
   "execution_count": 87,
   "id": "96debf8c",
   "metadata": {},
   "outputs": [],
   "source": [
    "with open('data.pkl_unique','wb') as file:\n",
    "    pickle.dump(LRR, file)"
   ]
  },
  {
   "cell_type": "code",
   "execution_count": null,
   "id": "865dd1ca",
   "metadata": {},
   "outputs": [],
   "source": []
  }
 ],
 "metadata": {
  "kernelspec": {
   "display_name": "ml",
   "language": "python",
   "name": "ml"
  },
  "language_info": {
   "codemirror_mode": {
    "name": "ipython",
    "version": 3
   },
   "file_extension": ".py",
   "mimetype": "text/x-python",
   "name": "python",
   "nbconvert_exporter": "python",
   "pygments_lexer": "ipython3",
   "version": "3.9.16"
  }
 },
 "nbformat": 4,
 "nbformat_minor": 5
}
